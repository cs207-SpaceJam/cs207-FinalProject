{
 "cells": [
  {
   "cell_type": "markdown",
   "metadata": {},
   "source": [
    "# Introduction\n",
    "\n",
    "**Problem:** Determine the equation of motion of a body or collection of bodies given initial conditions of the system\n",
    "\n",
    "**Solution:** AD. Allows machine precision computation of derivatives, which can be used in the computation of Jacobians involved in implicit differentiation."
   ]
  },
  {
   "cell_type": "markdown",
   "metadata": {},
   "source": [
    "# Background"
   ]
  },
  {
   "cell_type": "markdown",
   "metadata": {},
   "source": [
    "## Euler's Method\n",
    "The motivation is the following: \n",
    "\n",
    "* We have some initial conditions, like position and velocity of a planet, and we want to know what kind of orbit this planet will trace out, given that only the force acting on it is gravity. \n",
    "* Using the physical insight that the \"slope\" of position over time is velocity, and the \"slope\" of velocity over time is acceleration, we can predict, or integrate, how the quantities will change over time. \n",
    "* More explicitly, we can use the acceleration supplied by gravity to predict the velocity of our planet, and then use this velocity to predict its position a timestep $\\Delta t$ later. \n",
    "* This gives us a new position and the whole process starts over again at the next timestep. Here is a schematic of the Euler integration method.\n",
    "<img src=\"http://jmahaffy.sdsu.edu/courses/f00/math122/lectures/num_method_diff_equations/images/euler_ani.gif\">\n",
    "\n",
    "This plot above could represent anything. It could be how one component of the planet's velocity varies over time, or it could be the position of the end of a spring as it slinks back and forth. The point is that we have some solution curve (black) that we want to approximate (red), given that we only know two things:\n",
    "* where we started $(t_0, y_0)$\n",
    "* the rate of how where we were changes with time $\\left(y'_0 = \\frac{y_1 - y_0}{\\Delta t}\\right)$\n",
    "\n",
    "The beauty of this is that even though we do not explicity know what $y_1$ is, the fact that we are given $y'_0$ from the initial conditions allows us to bootstrap our way around this. Starting with the definition of slope, we can use the timestep $h = \\Delta t$, to find where we will be a timestep later $y_1$:\n",
    "\\begin{align*}\n",
    " y_0' = \\frac{y_1 - y_0}{\\Delta t}\\quad\\longrightarrow\\quad\n",
    " y_1 = y_0 + \\Delta t\\ y_0'\\quad.\n",
    "\\end{align*}\n",
    "\n",
    "Generalizing to any timestep $n$:\n",
    "\\begin{align*}\n",
    "y_{n+1} = y_n + \\Delta t\\ y_n'\n",
    "\\end{align*}\n",
    "\n",
    "Whenever all of the $n+1$ terms are on one side of the equation and the $n$ terms are on the other, we have something called an *explicit numerical method* This is intuitively straightforward and easy to implement, but there is a downside, the solutions **do not converge** for a given timestep."
   ]
  },
  {
   "cell_type": "markdown",
   "metadata": {},
   "source": [
    "## Example"
   ]
  },
  {
   "cell_type": "markdown",
   "metadata": {},
   "source": [
    "Here is an example of Euler's method going wrong, applied to a simple harmonic oscillator with mass $m$ and spring stiffness constant $k$. "
   ]
  },
  {
   "cell_type": "code",
   "execution_count": 1,
   "metadata": {},
   "outputs": [
    {
     "data": {
      "text/plain": [
       "Text(0.5,1,'Explicit Euler Method')"
      ]
     },
     "execution_count": 1,
     "metadata": {},
     "output_type": "execute_result"
    }
   ],
   "source": [
    "import matplotlib.pyplot as plt\n",
    "import numpy as np\n",
    "import seaborn as sns\n",
    "\n",
    "sns.set_style('darkgrid')\n",
    "%config InlineBackend.figure_format = 'retina'\n",
    "\n",
    "# initial conditions\n",
    "x_old = 10\n",
    "v_old = 0\n",
    "k = 1\n",
    "m = 1\n",
    "t_max = 100\n",
    "h = .1 # timestep\n",
    "\n",
    "xs = [] # holds positions\n",
    "vs = [] # holds veclocities\n",
    "\n",
    "# run simulation\n",
    "t = 0\n",
    "while t < t_max:\n",
    "    # explicit Euler method\n",
    "    v_new = v_old - h*(k/m)*x_old\n",
    "    x_new = x_old + h*v_old\n",
    "    \n",
    "    # update\n",
    "    xs.append(x_new)\n",
    "    vs.append(v_new)\n",
    "    x_old = x_new\n",
    "    v_old = v_new\n",
    "    t += h\n",
    "\n",
    "plt.plot(xs)\n",
    "plt.xlabel('step')\n",
    "plt.ylabel('x')\n",
    "plt.title('Explicit Euler Method')"
   ]
  },
  {
   "cell_type": "markdown",
   "metadata": {},
   "source": [
    "It blows up! To see why this is, we can investigate the simpler *stiff oscillator*. The notation used here will also set the framework for the math conventions used in the development of this package."
   ]
  },
  {
   "cell_type": "markdown",
   "metadata": {},
   "source": [
    "### Stiff Oscillator\n"
   ]
  },
  {
   "cell_type": "markdown",
   "metadata": {},
   "source": [
    "Instead of worrying about what the actual equation of motion of our spring in the previous example looks like, we can consider an oscillator with some motion $x(t)$ along the x-axis confined to an area that is close to this axis. In other words,\n",
    "$$\n",
    "\\newcommand{b}[1]{\\mathbf#1}\n",
    "\\newcommand{od}[2]{\\frac{\\mathrm{d}#1}{\\mathrm{d}#2}}\n",
    "\\begin{align*}\n",
    "\\b f(\\b X_n) = \\dot{\\b X}_n = \\od{}{t}\\begin{bmatrix}x_n\\\\y_n\\end{bmatrix}\n",
    "= \\begin{bmatrix}-x_n\\\\-ky_n\\end{bmatrix}\n",
    "\\end{align*}\\quad,\n",
    "$$\n",
    "\n",
    "for large $k$ to constrain our oscillator to the x-axis.\n",
    "\n",
    "Running our explicit Euler scheme then gives,\n",
    "$$\n",
    "\\begin{align*}\n",
    "\\b X_{n+1} = \\b X_n + h\\b f(\\b X_n) \n",
    "= \\begin{pmatrix}x_0\\\\y_0\\end{pmatrix}\n",
    "+ h\\begin{pmatrix}-x_0\\\\-ky_0\\end{pmatrix}\n",
    "= \\begin{bmatrix}(1 - h)x_0\\\\(1 - hk) y_0\\end{bmatrix}\n",
    "\\end{align*}\\quad.\n",
    "$$\n",
    "\n",
    "This is our problem. If $|1 - hk| > 0$, then $|y_{n+1}| > |y_n|$, which would imply that our spring would actually get farther and farther away from the x-axis! In other words, if we happened to select a timestep larger than $h = 2/k$, our solution would not converge. By definition, $k$ is large, so the only way to avoid having this system blow up on us is to select very small timesteps, which is computationally expensive and would take forever to run. \n",
    "\n",
    "We need a scheme that will remain stable for a wide range of timesteps, which is what *implicit differentiation can accomplish*. The most straightforward example of such a scheme is the **Backward Euler Method**."
   ]
  },
  {
   "cell_type": "markdown",
   "metadata": {},
   "source": [
    "## Backward Euler Method"
   ]
  },
  {
   "cell_type": "markdown",
   "metadata": {},
   "source": [
    "Conceptually, this method is identical to the **Euler Method**, with the only difference being that we use the slope at the end of the timestep instead of the beginning to propogate our solution. In other words,\n",
    "$$\n",
    "\\newcommand{D}{\\Delta\\b X}\n",
    "\\begin{align*}\n",
    "\\b X_{n+1} = \\b X_n + h\\b f(\\b X_{n+1})\\quad.\n",
    "\\end{align*}\n",
    "$$\n",
    "\n",
    "In general, it's pretty tough to solve for $\\b X_{n+1}$ exactly, so let's approximate instead up to first order in its Taylor series instead. To simplify notation a bit, $\\D \\equiv \\b X_{n+1} - \\b X_n$. We can now write the above scheme as,\n",
    "$$\n",
    "\\begin{align*}\n",
    "\\b X_n + \\D = \\b X_n + h\\b f(\\b X_n+\\D)\\quad,\n",
    "\\end{align*}\n",
    "$$\n",
    "\n",
    "then cancel like terms and expand to first order in $\\D$ to get,\n",
    "$$\n",
    "\\begin{align*}\n",
    "\\D \\approx h\\left[\\b f(\\b X_n) + f'(\\b X_n)\\D\\right]\\quad.\n",
    "\\end{align*}\n",
    "$$\n",
    "\n",
    "Solving for $\\D$, we have\n",
    "$$\n",
    "\\begin{align*}\n",
    "\\D = \\left[\\frac{1}{h}\\b I - f'(\\b X_n)\\right]^{-1} f(\\b X_n)\\quad,\n",
    "\\end{align*}\n",
    "$$\n",
    "\n",
    "where $\\b I$ is the identity matrix.\n",
    "\n",
    "Alright, that was a whole bunch of abstraction. Let's actually put it into practice by applying it to our stiff spring system. Just collecting some pieces together, we have\n",
    "$$\n",
    "\\newcommand{\\pd}[2]{\\frac{\\partial#1}{\\partial#2}}\n",
    "\\begin{align*}\n",
    "\\b f(\\b X_n) &= \\begin{pmatrix}-x_n\\\\-ky_n\\end{pmatrix} \\\\\n",
    "f'(\\b X_n) &= \\pd{}{\\b X_n}\\b f(\\b X_n) = \\begin{pmatrix}-1&0\\\\0&-k\\end{pmatrix} \\\\\n",
    "\\frac{1}{h}\\b I - f'(\\b X_n) &= \n",
    "\\begin{pmatrix}\\frac{1}{h} + 1 & 0\\\\0 & \\frac{1}{h}+k\\end{pmatrix}\n",
    "= \\begin{pmatrix}\\frac{1+h}{h} & 0\\\\0 & \\frac{1+kh}{h}\\end{pmatrix} \\\\\n",
    "\\left[\\frac{1}{h}\\b I - f'(\\b X_n)\\right]^{-1} &= \\frac{h^2}{(1 + h)(1 + kh)}\n",
    "\\begin{pmatrix}\\frac{1 + kh}{h} & 0\\\\0 & \\frac{1+h}{h}\\end{pmatrix}\n",
    "= \\begin{pmatrix}\\frac{h}{1 + h} & 0\\\\0 & \\frac{h}{1 + kh}\\end{pmatrix}\\quad.\n",
    "\\end{align*}\n",
    "$$\n",
    "\n",
    "Putting it all together,\n",
    "$$\n",
    "\\begin{align*}\n",
    "\\D = \\begin{pmatrix}\\frac{h}{1 + h} & 0\\\\0 & \\frac{h}{1 + kh}\\end{pmatrix}\n",
    "\\begin{pmatrix}-x_0\\\\-ky_0\\end{pmatrix}\n",
    "= -\\begin{pmatrix}\\frac{h}{1 + h}x_0\\\\\\frac{h}{1 + kh}ky_0\\end{pmatrix}\\quad.\n",
    "\\end{align*}\n",
    "$$\n",
    "\n",
    "In the limit of large $h$, this just collapses down to $-(x_0, y_0) = -\\b X_n$. So we have, $\\b X_{n+1} = \\b X_n + \\D  = 0$. The system converges in a single timestep! This is just by design for a stiff oscillator. Other systems will not always converge for an arbitrarily large timestep for this implicit integration scheme, but they will still tend to converge without needing to use extremely small timesteps. \n",
    "\n",
    "We can similarly extend this to second order differential equations, which our orbital dynamics application will use. The methodology is outlined in the next section."
   ]
  },
  {
   "cell_type": "markdown",
   "metadata": {},
   "source": [
    "### Extending to Second order ODEs"
   ]
  },
  {
   "cell_type": "markdown",
   "metadata": {},
   "source": [
    "Converting our second order differential equation $\\ddot{x}_n = f(\\b x_n, \\b v_n)$ into two coupled single order ODE's again (like we did for the simple harmonic oscillator example),\n",
    "$$\n",
    "\\begin{align*}\n",
    "\\od{}{t}\\begin{pmatrix}\\b x_n\\\\\\b v_n\\end{pmatrix}\n",
    "= \\begin{bmatrix}\\b v\\\\\\b f(\\b x_n, \\b v_n)\\end{bmatrix}\\quad.\n",
    "\\end{align*}\n",
    "$$\n",
    "\n",
    "Recasting this in our $\\Delta$ notation,\n",
    "$$\n",
    "\\newcommand{\\Dx}{\\Delta\\b x}\n",
    "\\newcommand{\\Dv}{\\Delta\\b v}\n",
    "\\begin{pmatrix}\\Dx\\\\\\Dv\\end{pmatrix} \n",
    "= h\\begin{bmatrix}\\b v_n + \\Dv\\\\\\b f(\\b x_n+\\Dx, \\b v_n+\\Dv)\\end{bmatrix}\\quad.\n",
    "$$\n",
    "\n",
    "Expanding to first order (and allowing for the possibility that $\\b f$ can vary with explicitly with time),\n",
    "$$\n",
    "\\newcommand{dfdx}{\\frac{\\partial\\b f}{\\partial\\b x_n}}\n",
    "\\newcommand{dfdv}{\\frac{\\partial\\b f}{\\partial\\b v_n}}\n",
    "\\newcommand{dfdt}{\\frac{\\partial\\b f}{\\partial t}}\n",
    "\\begin{align*}\n",
    "\\begin{pmatrix}\\Dx\\\\\\Dv\\end{pmatrix} \\approx\n",
    "h\\begin{bmatrix}\\b v_n + \\Dv\\\\\\b f_n + \\dfdx\\Dx + \\dfdv\\Dv + \\dfdt\\end{bmatrix}\\quad.\n",
    "\\end{align*}\n",
    "$$\n",
    "\n",
    "Subbing the top row into the bottom,\n",
    "$$\n",
    "\\begin{align*}\n",
    "\\Dv = h\\left[\\b f_n+\\dfdx h(\\b v_n+\\Dv) + \\dfdv\\Dv + \\b f(t)\\right]\\quad.\n",
    "\\end{align*}\n",
    "$$\n",
    "\n",
    "Solving for $\\Dv$,\n",
    "$$\n",
    "\\begin{align*}\n",
    "&\\left(\\frac{1}{h}\\b I - h\\dfdx - \\dfdv\\right)\\Dv\n",
    "= \\b f_n + h\\dfdx\\b v_n + \\dfdt \\\\ \n",
    "&\\Longrightarrow\\quad\n",
    "\\Dv = \\left(\\frac{1}{h}\\b I - h\\dfdx - \\dfdv\\right)^{-1}\n",
    "\\left(\\b f_n + h\\dfdx\\b v_n + \\dfdt\\right)\\quad.\n",
    "\\end{align*}\n",
    "$$\n",
    "\n",
    "From there, $\\Dx$ is just $h(v_n + \\Dv)$.\n",
    "\n",
    "Let's apply this to our spring system that blew up before!"
   ]
  },
  {
   "cell_type": "markdown",
   "metadata": {},
   "source": [
    "### Application to Simple Harmonic Oscillator"
   ]
  },
  {
   "cell_type": "markdown",
   "metadata": {},
   "source": [
    "Collecting the relevant relations together again (just using two dimensions for simplicity),\n",
    "$$\n",
    "\\begin{align*}\n",
    "&\\b f_n = \\begin{pmatrix}-\\frac{k}{m}x_n \\\\ 0\\end{pmatrix},\\quad\n",
    "\\dfdx = \\begin{pmatrix}-\\frac{k}{m} & 0\\\\ 0 & 0\\end{pmatrix},\\quad\n",
    "\\dfdv = \\b 0, \\quad \\dfdt = \\b 0\\quad,\\\\\n",
    "&\\left[\\frac{1}{h}\\b I - h\\begin{pmatrix}-\\frac{k}{m}&0\\\\0&0\\end{pmatrix}\\right]^{-1}\n",
    "= \\left[\\begin{pmatrix}\\frac{1}{h}&0\\\\0&\\frac{1}{h}\\end{pmatrix}\n",
    "- \\begin{pmatrix}-\\frac{hk}{m}&0\\\\0&0\\end{pmatrix}\\right]^{-1}\n",
    "= \\begin{bmatrix}\\frac{m+h^2k}{hm}&0\\\\0&\\frac{1}{h}\\end{bmatrix}^{-1}\n",
    "= \\frac{h^2 m}{m + h^2 k}\\begin{pmatrix}\\frac{1}{h}&0\\\\0&\\frac{m+h^2 k}{hm}\\end{pmatrix}\n",
    "\\quad.\n",
    "\\end{align*}\n",
    "$$\n",
    "\n",
    "Plugging it all in,\n",
    "$$\n",
    "\\begin{align*}\n",
    "\\Dv &= \\frac{h^2 m}{m + h^2 k}\n",
    "\\begin{pmatrix}\\frac{1}{h}&0\\\\0&\\frac{m+h^2 k}{hm}\\end{pmatrix}\n",
    "\\left[\\begin{pmatrix}-\\frac{k}{m}x_n\\\\0\\end{pmatrix}\n",
    "+ h\\begin{pmatrix}-\\frac{k}{m}&0\\\\0&0\\end{pmatrix}\n",
    "\\begin{pmatrix}v_n\\\\0\\end{pmatrix}\\right] \\\\\n",
    "&= \\begin{pmatrix}\\frac{hm}{m+h^2m}&0\\\\0&h\\end{pmatrix}\n",
    "\\begin{pmatrix}-\\frac{k}{m}x_n-\\frac{hk}{m}\\\\0\\end{pmatrix}\n",
    "= \\begin{bmatrix}-\\frac{hk(x_n+h)}{m(1+h^2)}\\\\0\\end{bmatrix}\\quad.\n",
    "\\end{align*}\n",
    "$$\n",
    "\n",
    "Applying this to the simple harmonic oscillator using the same initial conditions gives the following results:"
   ]
  },
  {
   "cell_type": "code",
   "execution_count": 2,
   "metadata": {
    "scrolled": true
   },
   "outputs": [
    {
     "data": {
      "text/plain": [
       "Text(0.5,1,'Backward Euler Method')"
      ]
     },
     "execution_count": 2,
     "metadata": {},
     "output_type": "execute_result"
    },
    {
     "data": {
      "image/png": "[encoded data removed]",
      "text/plain": [
       "<Figure size 432x288 with 1 Axes>"
      ]
     },
     "metadata": {
      "image/png": {
       "height": 273,
       "width": 391
      }
     },
     "output_type": "display_data"
    }
   ],
   "source": [
    "import matplotlib.pyplot as plt\n",
    "import numpy as np\n",
    "import seaborn as sns\n",
    "\n",
    "sns.set_style('darkgrid')\n",
    "%config InlineBackend.figure_format = 'retina'\n",
    "\n",
    "# initial conditions\n",
    "x_old = 10\n",
    "v_old = 0\n",
    "k = 1\n",
    "m = 1\n",
    "t_max = 100\n",
    "h = .1 # timestep\n",
    "\n",
    "xs = [] # holds positions\n",
    "vs = [] # holds veclocities\n",
    "\n",
    "# run simulation\n",
    "t = 0\n",
    "while t < t_max:\n",
    "    # implicit Euler method\n",
    "    delta_v = -h*k*(x_old + h) / (m * (1 + h**2))\n",
    "    v_new = v_old + delta_v\n",
    "    delta_x = h*v_new\n",
    "    x_new = x_old + delta_x\n",
    "    \n",
    "    # other method? This seems to work too\n",
    "    #v_new = v_old - h*(k/m)*x_old\n",
    "    #x_new = x_old + h*v_new\n",
    "    \n",
    "    # update\n",
    "    xs.append(x_new)\n",
    "    vs.append(v_new)\n",
    "    x_old = x_new\n",
    "    v_old = v_new\n",
    "    t += h\n",
    "\n",
    "plt.plot(xs)\n",
    "plt.xlabel('step')\n",
    "plt.ylabel('x')\n",
    "plt.title('Backward Euler Method')"
   ]
  },
  {
   "cell_type": "markdown",
   "metadata": {},
   "source": [
    "The spring has a stable solution = D\n",
    "\n",
    "For more complex functions, accurately computing the Jacobian can be numerically intensive though. Enter: **Automatic Differentiation**"
   ]
  },
  {
   "cell_type": "markdown",
   "metadata": {},
   "source": [
    "## Automatic Differentiation"
   ]
  },
  {
   "cell_type": "markdown",
   "metadata": {},
   "source": [
    "This is a method to simultaneously compute a function and its derivative to machine precision. This can be done by introducing the dual number $\\epsilon^2=0$, where $\\epsilon\\ne0$. If we transform some arbitrary function $f(x)$ to $f(x+\\epsilon)$ and expand it, we have:\n",
    "$$\n",
    "\\begin{align*}\n",
    "f(x+\\epsilon) = f(x) + \\epsilon f'(x) + O(\\epsilon^2)\\quad.\n",
    "\\end{align*}\n",
    "$$\n",
    "\n",
    "By the definition of $\\epsilon$, all second order and higher terms in $\\epsilon$ vanish and we are left with $f(x+\\epsilon) = f(x) + \\epsilon f'(x)$, where the dual part, $f'(x)$, of this transformed function is the derivative of our original function $f(x)$. If we adhere to the new system of algebra introduced by dual numbers, we are able to comput derivatives of functions exactly. \n",
    "\n",
    "For example, multiplying two dual numbers $z_1 = a_r + \\epsilon a_d$ and \n",
    "$z_2 = b_r + \\epsilon b_d$ would behave like:\n",
    "$$\n",
    "z_1 \\times z_2 = (a_r + \\epsilon a_d) \\times (b_r + \\epsilon b_d)\n",
    "= a_rb_r + \\epsilon(a_rb_d + a_db_r) + \\epsilon^2 a_db_d\n",
    "= \\boxed{a_rb_r + \\epsilon(a_rb_d + a_db_r)}\\quad.\n",
    "$$\n",
    "\n",
    "Operations like this can be redefined via *operator overloading*"
   ]
  },
  {
   "cell_type": "markdown",
   "metadata": {},
   "source": [
    "## Operator Overloading"
   ]
  },
  {
   "cell_type": "markdown",
   "metadata": {},
   "source": [
    "Blah blah, `__radd__`, `__truediv__`, blah"
   ]
  },
  {
   "cell_type": "markdown",
   "metadata": {},
   "source": [
    "# Software Organization"
   ]
  },
  {
   "cell_type": "markdown",
   "metadata": {},
   "source": [
    "The structure of our package is shown below\n",
    "    \n",
    "    AutoDiff/ \n",
    "    \n",
    "        AutoDiff/\n",
    "            __init__.py\n",
    "            dual_numbers.py\n",
    "            autodiff.py\n",
    "        \n",
    "        Tests/\n",
    "            __init__.py\n",
    "            test_autodiff.py\n",
    "\n",
    "        README.md\n",
    "        setup.py\n",
    "        LICENSE\n",
    "        MANIFEST.in\n",
    "        .gitignore"
   ]
  },
  {
   "cell_type": "markdown",
   "metadata": {},
   "source": [
    "## What is in each file?"
   ]
  },
  {
   "cell_type": "markdown",
   "metadata": {},
   "source": [
    "### __init__.py in AutoDiff\n",
    "```python\n",
    "from .module1 import class1, method1, method2 \n",
    "from .module2 import class2\n",
    "\n",
    "__all__ = ['class1', 'method1', 'method2','class2']\n",
    "```"
   ]
  },
  {
   "cell_type": "markdown",
   "metadata": {},
   "source": [
    "### __init__.py in test directory\n",
    "```python\n",
    "name=\"AutoDiff_SpaceJam\"\n",
    "```"
   ]
  },
  {
   "cell_type": "markdown",
   "metadata": {},
   "source": [
    "### README.md"
   ]
  },
  {
   "cell_type": "markdown",
   "metadata": {},
   "source": [
    "### setup.py\n",
    "```python\n",
    "from setuptools import setup\n",
    "\n",
    "\n",
    "def readme():\n",
    "    with open('README.rst') as f:\n",
    "        return f.read()\n",
    "\n",
    "\n",
    "setup(name='AutoDiff_Orbit',\n",
    "      version='0.1',\n",
    "      description='Automatic differentiation used to calculate orbit',\n",
    "      long_description=readme(),\n",
    "      classifiers=[\n",
    "        'Development Status :: 3 - Alpha',\n",
    "        'License :: OSI Approved :: MIT License',\n",
    "        'Programming Language :: Python :: 3.6',\n",
    "        'Topic :: Text Processing :: Linguistic',\n",
    "      ],\n",
    "      keywords='automatic differentiation orbit dual',\n",
    "      url='http://github.com/[CS207_SpaceJam]',\n",
    "      author='SpaceJam',\n",
    "      license='MIT',\n",
    "      packages=['AutoDiff'],\n",
    "      install_requires=[\n",
    "          'markdown',\n",
    "      ],\n",
    "      test_suite='nose.collector',\n",
    "      tests_require=['nose', 'nose-cover3'],\n",
    "      include_package_data=True,\n",
    "      zip_safe=False)\n",
    "```"
   ]
  },
  {
   "cell_type": "markdown",
   "metadata": {},
   "source": [
    "### LICENCE\n",
    "MIT License"
   ]
  },
  {
   "cell_type": "markdown",
   "metadata": {},
   "source": [
    "### MANIFEST.in\n",
    "include README.md"
   ]
  },
  {
   "cell_type": "markdown",
   "metadata": {},
   "source": [
    "### .gitignore# \n",
    "Compiled python modules.\n",
    "\n",
    "```python\n",
    "*.pyc\n",
    "*.ipynb_checkpoints\n",
    "\n",
    "# Setuptools build folder.\n",
    "build/\n",
    "\n",
    "# Setuptools distribution folder.\n",
    "dist/\n",
    "\n",
    "# Python egg metadata, regenerated from source files by setuptools.\n",
    "*.egg-info\n",
    "*.egg\n",
    "```"
   ]
  },
  {
   "cell_type": "markdown",
   "metadata": {},
   "source": [
    "### Dual_Numbers.py\n",
    "```python\n",
    "class DualNumber:\n",
    "    def add:\n",
    "    def substract:\n",
    "    def multiply:\n",
    "    def divide: \n",
    "    def sqrt:\n",
    "    def power:\n",
    "    def sin:\n",
    "    def cos:\n",
    "    def tan:\n",
    "```"
   ]
  },
  {
   "cell_type": "markdown",
   "metadata": {},
   "source": [
    "### AutoDiff.py"
   ]
  },
  {
   "cell_type": "markdown",
   "metadata": {},
   "source": [
    "### test_autodiff.py\n",
    "\n",
    "```python\n",
    "import AutoDiff\n",
    "\n",
    "class TestDual(x):\n",
    "\n",
    "class TestAutoDiff(TestCase):\n",
    "    def test_can_run(self):\n",
    "        x=rand(num_points)\n",
    "        y=rand(num_points)\n",
    "        \n",
    "        x_test=rand(num_test)\n",
    "        y_test=rand(num_test)\n",
    "        \n",
    "        rmse=my_autodiff.rmse_score(y_test, y_predict)\n",
    "        self.assertTrue(rmse > 0)\n",
    "```"
   ]
  }
 ],
 "metadata": {
  "kernelspec": {
   "display_name": "Python 3",
   "language": "python",
   "name": "python3"
  },
  "language_info": {
   "codemirror_mode": {
    "name": "ipython",
    "version": 3
   },
   "file_extension": ".py",
   "mimetype": "text/x-python",
   "name": "python",
   "nbconvert_exporter": "python",
   "pygments_lexer": "ipython3",
   "version": "3.6.5"
  },
  "toc": {
   "colors": {
    "hover_highlight": "#DAA520",
    "navigate_num": "#fc151b",
    "navigate_text": "#92a2be",
    "running_highlight": "#FF0000",
    "selected_highlight": "#FFD700",
    "sidebar_border": "#EEEEEE",
    "wrapper_background": "#FFFFFF"
   },
   "moveMenuLeft": true,
   "nav_menu": {
    "height": "233px",
    "width": "415px"
   },
   "navigate_menu": true,
   "number_sections": false,
   "sideBar": true,
   "threshold": 4,
   "toc_cell": false,
   "toc_section_display": "block",
   "toc_window_display": false,
   "widenNotebook": false
  }
 },
 "nbformat": 4,
 "nbformat_minor": 2
}
