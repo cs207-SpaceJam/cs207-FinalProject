{
 "cells": [
  {
   "cell_type": "markdown",
   "metadata": {},
   "source": [
    "**Introduction**\n",
    "Describe problem the software solves and why it's important to solve that problem. This can be the same as Milestone 1."
   ]
  },
  {
   "cell_type": "code",
   "execution_count": null,
   "metadata": {
    "collapsed": true
   },
   "outputs": [],
   "source": [
    "--> SHORTENED VERSION INTRO!"
   ]
  },
  {
   "cell_type": "markdown",
   "metadata": {},
   "source": [
    "**How to use your package**\n",
    "* How to install? Even (especially) if the package isn't on PyPI, you should walk them through the creation of a virtual environment or some other kind of manual installation.\n",
    "* Include a basic demo for the user. Come up with a simple function to differentiate and walk the user through the steps needed to accomplish that task.\n"
   ]
  },
  {
   "cell_type": "markdown",
   "metadata": {},
   "source": [
    "**Background**\n",
    "* This can be the same as in Milestone 1.\n"
   ]
  },
  {
   "cell_type": "markdown",
   "metadata": {},
   "source": [
    "**Software organization**\n",
    "* High-level overview of how the software is organized.\n",
    "* Directory structure\n",
    "* Basic modules and what they do\n",
    "* Where do tests live? How are they run? How are they integrated?\n",
    "* How can someone install your package? At this point, it is okay if your package isn't on PyPI. If it's not, then you should describe how someone can download and install your package manually."
   ]
  },
  {
   "cell_type": "markdown",
   "metadata": {},
   "source": [
    "**Implementation details**\n",
    "* Description of current implementation. This section goes deeper than the high level software organization section.\n",
    "* Try to think about the following:\n",
    "        -Core data structures\n",
    "        -Core classes\n",
    "        -Important attributes\n",
    "        -External dependencies\n",
    "        -Elementary functions This is similar to what you did for milestone 1, but now you've actually implemented it.\n",
    "* What aspects have you not implemented yet? What else do you plan on implementing?"
   ]
  },
  {
   "cell_type": "markdown",
   "metadata": {},
   "source": []
  },
  {
   "cell_type": "markdown",
   "metadata": {},
   "source": []
  }
 ],
 "metadata": {
  "kernelspec": {
   "display_name": "Python 3",
   "language": "python",
   "name": "python3"
  },
  "language_info": {
   "codemirror_mode": {
    "name": "ipython",
    "version": 3
   },
   "file_extension": ".py",
   "mimetype": "text/x-python",
   "name": "python",
   "nbconvert_exporter": "python",
   "pygments_lexer": "ipython3",
   "version": "3.6.3"
  }
 },
 "nbformat": 4,
 "nbformat_minor": 2
}
