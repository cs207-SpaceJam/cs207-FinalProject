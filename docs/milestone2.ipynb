{
 "cells": [
  {
   "cell_type": "markdown",
   "metadata": {},
   "source": [
    "# Introduction"
   ]
  },
  {
   "cell_type": "markdown",
   "metadata": {},
   "source": [
    "**Problem:** Determine the equation of motion of a body or collection of bodies given initial conditions of the system\n",
    "\n",
    "**Solution:** AD. Allows machine precision computation of derivatives, which can be used in the computation of Jacobians involved in implicit differentiation."
   ]
  },
  {
   "cell_type": "markdown",
   "metadata": {},
   "source": [
    "# How to use our package"
   ]
  },
  {
   "cell_type": "markdown",
   "metadata": {},
   "source": [
    "## Installation"
   ]
  },
  {
   "cell_type": "markdown",
   "metadata": {},
   "source": [
    "source venv/bin/activate"
   ]
  },
  {
   "cell_type": "markdown",
   "metadata": {},
   "source": [
    "## Demo"
   ]
  },
  {
   "cell_type": "markdown",
   "metadata": {},
   "source": [
    "These following series of demos will walk you through how to differentiate a wide variety of functions with `spacejam`"
   ]
  },
  {
   "cell_type": "markdown",
   "metadata": {},
   "source": [
    "### Demo I: Scalar function, scalar input"
   ]
  },
  {
   "cell_type": "markdown",
   "metadata": {},
   "source": [
    "This is the simplest case, where the function you provide takes in a single scalar argument $(x=a)$ and outputs a single scalar value $f(a)$.\n",
    "\n",
    "For example, let's take a look at the function $f(x) = x^3$, which you can define below as:"
   ]
  },
  {
   "cell_type": "code",
   "execution_count": 8,
   "metadata": {},
   "outputs": [],
   "source": [
    "def f(x):\n",
    "    return x**3"
   ]
  },
  {
   "cell_type": "markdown",
   "metadata": {},
   "source": [
    "All `spacejam` needs is a value $(x=p)$ to evalute your function at and a dual number object $p_x = f(x) + \\epsilon_x$ which is needed for `spacejam` to perform the automatic differentiation of your function wrt. $x$. Luckily, `spacejam` creates this object for you with"
   ]
  },
  {
   "cell_type": "code",
   "execution_count": 3,
   "metadata": {},
   "outputs": [],
   "source": [
    "import spacejam.Dual as d\n",
    "p = 5  # evaluation point\n",
    "p_x = d.Dual(p) # call Dual object"
   ]
  },
  {
   "cell_type": "markdown",
   "metadata": {},
   "source": [
    "for an example value of $x = 5$ to evaluate your function at. Now, evaluating your function at $x=5$ and simultaneously computing the derivative at this point is as easy as"
   ]
  },
  {
   "cell_type": "code",
   "execution_count": 10,
   "metadata": {},
   "outputs": [
    {
     "data": {
      "text/plain": [
       "125.00 + e 75.00"
      ]
     },
     "execution_count": 10,
     "metadata": {},
     "output_type": "execute_result"
    }
   ],
   "source": [
    "ad = f(p_x)\n",
    "ad"
   ]
  },
  {
   "cell_type": "markdown",
   "metadata": {},
   "source": [
    "where the real part is $f(x=5) = 125$ and the dual part is \n",
    "$$\n",
    "\\begin{align*}\n",
    "\\left.\\frac{\\mathrm d f}{\\mathrm d x}\\right|_{x=5} = 75\\quad.\n",
    "\\end{align*}\n",
    "$$"
   ]
  },
  {
   "cell_type": "markdown",
   "metadata": {},
   "source": [
    "The real and dual parts can also be conveniently accessed with,"
   ]
  },
  {
   "cell_type": "code",
   "execution_count": 11,
   "metadata": {},
   "outputs": [
    {
     "name": "stdout",
     "output_type": "stream",
     "text": [
      "125.0\n",
      "75.0\n"
     ]
    }
   ],
   "source": [
    "print(ad.r) # real part f(x=p)\n",
    "print(ad.d) # dual part df/dx|x=p"
   ]
  },
  {
   "cell_type": "markdown",
   "metadata": {},
   "source": [
    "Note: The dual part is returned as a `numpy` array because `spacejam` can also operate on multivariable functions and parameters, which we outline in the next two sections."
   ]
  },
  {
   "cell_type": "markdown",
   "metadata": {},
   "source": [
    "### Demo II: Scalar function with vector input"
   ]
  },
  {
   "cell_type": "markdown",
   "metadata": {},
   "source": [
    "This next demo explores the case where a new example function $f$ can accept vector input, for example $\\mathbf p = (x_1, x_2) = (5, 2)$ and return a single scalar value $f(\\mathbf p) = f(x_1, x_2) = 3x_1x_2 - 2x_2^3/x_1$.\n",
    "\n",
    "The dual number objects are created in much the same way as in \n",
    "[Demo I](###Demo%20I:%20Scalar%20function,%20scalar%20input),\n",
    "with the only difference being the specification of separate dual number objects $$\n",
    "\\begin{align*}\n",
    "p_{x_1} &= f(x_1, x_2) + \\epsilon_{x_1} \\frac{\\partial f}{\\partial x_1}\n",
    "+ \\epsilon_{x_2} 0\\\\\n",
    "p_{x_2} &= f(x_1, x_2) + \\epsilon_{x_1} 0\n",
    "+ \\epsilon_{x_2} \\frac{\\partial f}{\\partial x_2}\n",
    "\\end{align*}\\quad.\n",
    "$$\n",
    "\n",
    "This is accomplished with `idx` and `x` argument that you supply to `spacejam` so that it knows which dual parts need to be set to zero in the modified dual numbers above. In this modified setup, `spacejam` now returns\n",
    "$$\n",
    "\\begin{align*}\n",
    "f(\\mathbf p) + \\epsilon_{x_1}\\frac{\\partial f}{\\partial x_1} \n",
    "+ \\epsilon_{x_2}\\frac{\\partial f}{\\partial x_2}\n",
    "\\equiv f(\\mathbf p) + \\epsilon \\left[\\frac{\\partial f}{\\partial x_1}, \n",
    "\\frac{\\partial f}{\\partial x_2}\\right] = f(\\mathbf p) + \\epsilon\\nabla f\n",
    "\\end{align*}\\quad.\n",
    "$$\n",
    "\n",
    "Applying this to the new function $f$ would look like the following"
   ]
  },
  {
   "cell_type": "code",
   "execution_count": 5,
   "metadata": {
    "scrolled": true
   },
   "outputs": [
    {
     "data": {
      "text/plain": [
       "26.80 + e [ 6.64 10.2 ]"
      ]
     },
     "execution_count": 5,
     "metadata": {},
     "output_type": "execute_result"
    }
   ],
   "source": [
    "import numpy as np \n",
    "\n",
    "def f(x_1, x_2): \n",
    "    return 3*x_1*x_2 - 2*x_2**3/x_1\n",
    "\n",
    "p = np.array([5, 2]) # evaluation point (x_1, x_2) = (5, 2)\n",
    "\n",
    "p_x1 = d.Dual(p[0], idx=0, x=p) \n",
    "p_x2 = d.Dual(p[1], idx=1, x=p)\n",
    "\n",
    "# print f(p) and grad(f) evaluated at p\n",
    "ad = f(p_x1, p_x2)\n",
    "ad"
   ]
  },
  {
   "cell_type": "markdown",
   "metadata": {},
   "source": [
    "The real and dual parts can again be accessed with"
   ]
  },
  {
   "cell_type": "code",
   "execution_count": 6,
   "metadata": {},
   "outputs": [
    {
     "name": "stdout",
     "output_type": "stream",
     "text": [
      "26.8\n",
      "[ 6.64 10.2 ]\n"
     ]
    }
   ],
   "source": [
    "print(ad.r)\n",
    "print(ad.d)"
   ]
  },
  {
   "cell_type": "markdown",
   "metadata": {},
   "source": [
    "where now, the dual part is a 1D `numpy` array that is the representation of $\\nabla f$ evaluated at $\\mathbf p = (5, 2)$ ."
   ]
  },
  {
   "cell_type": "markdown",
   "metadata": {},
   "source": [
    "### Demo III: Vector function with vector input"
   ]
  },
  {
   "cell_type": "markdown",
   "metadata": {},
   "source": [
    "This final demo shows how to use `spacejam` to simultaneously evaluate the example vector function\n",
    "$$\n",
    "\\mathbf{F} = \\begin{bmatrix}f_1(x_1, x_2)\\\\f_2{x_1, x_2}\n",
    "\\\\f_{3}(x_1, x_2)\\end{bmatrix}\n",
    "= \\begin{bmatrix}\n",
    "x_1^2 + x_1x_2 + 2 \\\\ x_1x_2^3 + x_1^2 \\\\ x_2^3/x_1 + x_1 + x_1^2x_2^2 + x_2^4\n",
    "\\end{bmatrix}\n",
    "$$\n",
    "\n",
    "and its Jacobian,\n",
    "\n",
    "$$\n",
    "\\mathbf J = \\begin{bmatrix}\n",
    "\\nabla f_1(x_1, x_2) \\\\ \\nabla f_2(x_1, x_2) \\\\ \\nabla f_3(x_1, x_2)\n",
    "\\end{bmatrix}\\quad.\n",
    "$$\n",
    "\n",
    "at the point $\\mathbf{p} = (x_1, x_2) = (1, 2)$ .\n",
    "\n",
    "The configuration of `spacejam` happens to be exactly the same as in [Demo II](###Demo%20II:%20Scalar%20function%20with%20vector%20input) and would look like the following,"
   ]
  },
  {
   "cell_type": "code",
   "execution_count": 12,
   "metadata": {},
   "outputs": [
    {
     "data": {
      "text/plain": [
       "array([5.00 + e [4. 1.], 9.00 + e [10. 12.], 29.00 + e [ 1. 48.]],\n",
       "      dtype=object)"
      ]
     },
     "execution_count": 12,
     "metadata": {},
     "output_type": "execute_result"
    }
   ],
   "source": [
    "def F(x, y):\n",
    "    f1 = x**2 + x*y + 2\n",
    "    f2 = x*y**3 + x**2\n",
    "    f3 = y**3/x + x + x**2*y**2 + y**4\n",
    "    return np.array([f1, f2, f3])\n",
    "\n",
    "p = np.array([1, 2])\n",
    "p_x = d.Dual(p[0], idx=0, x=p)\n",
    "p_y = d.Dual(p[1], idx=1, x=p)\n",
    "\n",
    "ad = F(p_x, p_y)\n",
    "ad"
   ]
  },
  {
   "cell_type": "markdown",
   "metadata": {},
   "source": [
    "For each $i$th entry, in the 1D `numpy` array `ad`, the real part is the $i$th component of $\\mathbf{F}(\\mathbf{p})$ and the dual part is the corresponding row in the Jacobian $\\mathbf J$ evaluated at $\\mathbf p = (x_1, x_2) = (1, 2)$.\n",
    "\n",
    "The output can be cleaned up a bit to shape $\\mathbf J$ into its matrix form `Jac` with,"
   ]
  },
  {
   "cell_type": "code",
   "execution_count": 13,
   "metadata": {},
   "outputs": [
    {
     "data": {
      "text/plain": [
       "array([[ 4.,  1.],\n",
       "       [10., 12.],\n",
       "       [ 1., 48.]])"
      ]
     },
     "execution_count": 13,
     "metadata": {},
     "output_type": "execute_result"
    }
   ],
   "source": [
    "Jac = np.empty((F(*p).size, p.size))\n",
    "for i, f in enumerate(ad):\n",
    "    Jac[i] = f.d\n",
    "\n",
    "Jac"
   ]
  },
  {
   "cell_type": "markdown",
   "metadata": {},
   "source": [
    "# Background"
   ]
  },
  {
   "cell_type": "markdown",
   "metadata": {},
   "source": [
    "## Euler's Method\n",
    "The motivation is the following: \n",
    "\n",
    "* We have some initial conditions, like position and velocity of a planet, and we want to know what kind of orbit this planet will trace out, given that only the force acting on it is gravity. \n",
    "* Using the physical insight that the \"slope\" of position over time is velocity, and the \"slope\" of velocity over time is acceleration, we can predict, or integrate, how the quantities will change over time. \n",
    "* More explicitly, we can use the acceleration supplied by gravity to predict the velocity of our planet, and then use this velocity to predict its position a timestep $\\Delta t$ later. \n",
    "* This gives us a new position and the whole process starts over again at the next timestep. Here is a schematic of the Euler integration method.\n",
    "<img src=\"http://jmahaffy.sdsu.edu/courses/f00/math122/lectures/num_method_diff_equations/images/euler_ani.gif\">\n",
    "\n",
    "This plot above could represent anything. It could be how one component of the planet's velocity varies over time, or it could be the position of the end of a spring as it slinks back and forth. The point is that we have some solution curve (black) that we want to approximate (red), given that we only know two things:\n",
    "* where we started $(t_0, y_0)$\n",
    "* the rate of how where we were changes with time $\\left(y'_0 = \\frac{y_1 - y_0}{\\Delta t}\\right)$\n",
    "\n",
    "The beauty of this is that even though we do not explicity know what $y_1$ is, the fact that we are given $y'_0$ from the initial conditions allows us to bootstrap our way around this. Starting with the definition of slope, we can use the timestep $h = \\Delta t$, to find where we will be a timestep later $y_1$:\n",
    "\\begin{align*}\n",
    " y_0' = \\frac{y_1 - y_0}{\\Delta t}\\quad\\longrightarrow\\quad\n",
    " y_1 = y_0 + \\Delta t\\ y_0'\\quad.\n",
    "\\end{align*}\n",
    "\n",
    "Generalizing to any timestep $n$:\n",
    "\\begin{align*}\n",
    "y_{n+1} = y_n + \\Delta t\\ y_n'\n",
    "\\end{align*}\n",
    "\n",
    "Whenever all of the $n+1$ terms are on one side of the equation and the $n$ terms are on the other, we have something called an *explicit numerical method* This is intuitively straightforward and easy to implement, but there is a downside, the solutions **do not converge** for a given timestep."
   ]
  },
  {
   "cell_type": "markdown",
   "metadata": {},
   "source": [
    "## Example"
   ]
  },
  {
   "cell_type": "markdown",
   "metadata": {},
   "source": [
    "Here is an example of Euler's method going wrong, applied to a simple harmonic oscillator with mass $m$ and spring stiffness constant $k$. "
   ]
  },
  {
   "cell_type": "code",
   "execution_count": null,
   "metadata": {},
   "outputs": [],
   "source": [
    "import matplotlib.pyplot as plt\n",
    "import numpy as np\n",
    "import seaborn as sns\n",
    "\n",
    "sns.set_style('darkgrid')\n",
    "%config InlineBackend.figure_format = 'retina'\n",
    "\n",
    "# initial conditions\n",
    "x_old = 10\n",
    "v_old = 0\n",
    "k = 1\n",
    "m = 1\n",
    "t_max = 100\n",
    "h = .1 # timestep\n",
    "\n",
    "xs = [x_old] # holds positions\n",
    "vs = [v_old] # holds veclocities\n",
    "\n",
    "# run simulation\n",
    "t = 0\n",
    "while t < t_max:\n",
    "    # explicit Euler method\n",
    "    v_new = v_old - h*(k/m)*x_old\n",
    "    x_new = x_old + h*v_old\n",
    "    \n",
    "    # update\n",
    "    xs.append(x_new)\n",
    "    vs.append(v_new)\n",
    "    x_old = x_new\n",
    "    v_old = v_new\n",
    "    t += h\n",
    "\n",
    "plt.plot(xs)\n",
    "plt.xlabel('step')\n",
    "plt.ylabel('x')\n",
    "plt.title('Explicit Euler Method')"
   ]
  },
  {
   "cell_type": "markdown",
   "metadata": {},
   "source": [
    "It blows up! To see why this is, we can investigate the simpler *stiff oscillator*. The notation used here will also set the framework for the math conventions used in the development of this package."
   ]
  },
  {
   "cell_type": "markdown",
   "metadata": {},
   "source": [
    "### Stiff Oscillator\n"
   ]
  },
  {
   "cell_type": "markdown",
   "metadata": {},
   "source": [
    "Instead of worrying about what the actual equation of motion of our spring in the previous example looks like, we can consider an oscillator with some motion $x(t)$ along the x-axis confined to an area that is close to this axis. In other words,\n",
    "$$\n",
    "\\newcommand{b}[1]{\\mathbf#1}\n",
    "\\newcommand{od}[2]{\\frac{\\mathrm{d}#1}{\\mathrm{d}#2}}\n",
    "\\begin{align*}\n",
    "\\b f(\\b X_n) = \\dot{\\b X}_n = \\od{}{t}\\begin{bmatrix}x_n\\\\y_n\\end{bmatrix}\n",
    "= \\begin{bmatrix}-x_n\\\\-ky_n\\end{bmatrix}\n",
    "\\end{align*}\\quad,\n",
    "$$\n",
    "\n",
    "for large $k$ to constrain our oscillator to the x-axis.\n",
    "\n",
    "Running our explicit Euler scheme then gives,\n",
    "$$\n",
    "\\begin{align*}\n",
    "\\b X_{n+1} = \\b X_n + h\\b f(\\b X_n) \n",
    "= \\begin{pmatrix}x_0\\\\y_0\\end{pmatrix}\n",
    "+ h\\begin{pmatrix}-x_0\\\\-ky_0\\end{pmatrix}\n",
    "= \\begin{bmatrix}(1 - h)x_0\\\\(1 - hk) y_0\\end{bmatrix}\n",
    "\\end{align*}\\quad.\n",
    "$$\n",
    "\n",
    "This is our problem. If $|1 - hk| > 0$, then $|y_{n+1}| > |y_n|$, which would imply that our spring would actually get farther and farther away from the x-axis! In other words, if we happened to select a timestep larger than $h = 2/k$, our solution would not converge. By definition, $k$ is large, so the only way to avoid having this system blow up on us is to select very small timesteps, which is computationally expensive and would take forever to run. \n",
    "\n",
    "We need a scheme that will remain stable for a wide range of timesteps, which is what *implicit differentiation can accomplish*. The most straightforward example of such a scheme is the **Backward Euler Method**."
   ]
  },
  {
   "cell_type": "markdown",
   "metadata": {},
   "source": [
    "## Backward Euler Method"
   ]
  },
  {
   "cell_type": "markdown",
   "metadata": {},
   "source": [
    "Conceptually, this method is identical to the **Euler Method**, with the only difference being that we use the slope at the end of the timestep instead of the beginning to propogate our solution. In other words,\n",
    "$$\n",
    "\\newcommand{D}{\\Delta\\b X}\n",
    "\\begin{align*}\n",
    "\\b X_{n+1} = \\b X_n + h\\b f(\\b X_{n+1})\\quad.\n",
    "\\end{align*}\n",
    "$$\n",
    "\n",
    "In general, it's pretty tough to solve for $\\b X_{n+1}$ exactly, so let's approximate instead up to first order in its Taylor series instead. To simplify notation a bit, $\\D \\equiv \\b X_{n+1} - \\b X_n$. We can now write the above scheme as,\n",
    "$$\n",
    "\\begin{align*}\n",
    "\\b X_n + \\D = \\b X_n + h\\b f(\\b X_n+\\D)\\quad,\n",
    "\\end{align*}\n",
    "$$\n",
    "\n",
    "then cancel like terms and expand to first order in $\\D$ to get,\n",
    "$$\n",
    "\\begin{align*}\n",
    "\\D \\approx h\\left[\\b f(\\b X_n) + f'(\\b X_n)\\D\\right]\\quad.\n",
    "\\end{align*}\n",
    "$$\n",
    "\n",
    "Solving for $\\D$, we have\n",
    "$$\n",
    "\\begin{align*}\n",
    "\\D = \\left[\\frac{1}{h}\\b I - f'(\\b X_n)\\right]^{-1} f(\\b X_n)\\quad,\n",
    "\\end{align*}\n",
    "$$\n",
    "\n",
    "where $\\b I$ is the identity matrix.\n",
    "\n",
    "Alright, that was a whole bunch of abstraction. Let's actually put it into practice by applying it to our stiff spring system. Just collecting some pieces together, we have\n",
    "$$\n",
    "\\newcommand{\\pd}[2]{\\frac{\\partial#1}{\\partial#2}}\n",
    "\\begin{align*}\n",
    "\\b f(\\b X_n) &= \\begin{pmatrix}-x_n\\\\-ky_n\\end{pmatrix} \\\\\n",
    "f'(\\b X_n) &= \\pd{}{\\b X_n}\\b f(\\b X_n) = \\begin{pmatrix}-1&0\\\\0&-k\\end{pmatrix} \\\\\n",
    "\\frac{1}{h}\\b I - f'(\\b X_n) &= \n",
    "\\begin{pmatrix}\\frac{1}{h} + 1 & 0\\\\0 & \\frac{1}{h}+k\\end{pmatrix}\n",
    "= \\begin{pmatrix}\\frac{1+h}{h} & 0\\\\0 & \\frac{1+kh}{h}\\end{pmatrix} \\\\\n",
    "\\left[\\frac{1}{h}\\b I - f'(\\b X_n)\\right]^{-1} &= \\frac{h^2}{(1 + h)(1 + kh)}\n",
    "\\begin{pmatrix}\\frac{1 + kh}{h} & 0\\\\0 & \\frac{1+h}{h}\\end{pmatrix}\n",
    "= \\begin{pmatrix}\\frac{h}{1 + h} & 0\\\\0 & \\frac{h}{1 + kh}\\end{pmatrix}\\quad.\n",
    "\\end{align*}\n",
    "$$\n",
    "\n",
    "Putting it all together,\n",
    "$$\n",
    "\\begin{align*}\n",
    "\\D = \\begin{pmatrix}\\frac{h}{1 + h} & 0\\\\0 & \\frac{h}{1 + kh}\\end{pmatrix}\n",
    "\\begin{pmatrix}-x_0\\\\-ky_0\\end{pmatrix}\n",
    "= -\\begin{pmatrix}\\frac{h}{1 + h}x_0\\\\\\frac{h}{1 + kh}ky_0\\end{pmatrix}\\quad.\n",
    "\\end{align*}\n",
    "$$\n",
    "\n",
    "In the limit of large $h$, this just collapses down to $-(x_0, y_0) = -\\b X_n$. So we have, $\\b X_{n+1} = \\b X_n + \\D  = 0$. The system converges in a single timestep! This is just by design for a stiff oscillator. Other systems will not always converge for an arbitrarily large timestep for this implicit integration scheme, but they will still tend to converge without needing to use extremely small timesteps. \n",
    "\n",
    "We can similarly extend this to second order differential equations, which our orbital dynamics application will use. The methodology is outlined in the next section."
   ]
  },
  {
   "cell_type": "markdown",
   "metadata": {},
   "source": [
    "### Extending to Second order ODEs"
   ]
  },
  {
   "cell_type": "markdown",
   "metadata": {},
   "source": [
    "Converting our second order differential equation $\\ddot{x}_n = f(\\b x_n, \\b v_n)$ into two coupled single order ODE's again (like was done for the simple harmonic oscillator example),\n",
    "$$\n",
    "\\begin{align*}\n",
    "\\od{}{t}\\begin{pmatrix}\\b x_n\\\\\\b v_n\\end{pmatrix}\n",
    "= \\begin{bmatrix}\\b v\\\\\\b f(\\b x_n, \\b v_n)\\end{bmatrix}\\quad.\n",
    "\\end{align*}\n",
    "$$\n",
    "\n",
    "Recasting this in our $\\Delta$ notation,\n",
    "$$\n",
    "\\newcommand{\\Dx}{\\Delta\\b x}\n",
    "\\newcommand{\\Dv}{\\Delta\\b v}\n",
    "\\begin{pmatrix}\\Dx\\\\\\Dv\\end{pmatrix} \n",
    "= h\\begin{bmatrix}\\b v_n + \\Dv\\\\\\b f(\\b x_n+\\Dx, \\b v_n+\\Dv)\\end{bmatrix}\\quad.\n",
    "$$\n",
    "\n",
    "Expanding to first order (and allowing for the possibility that $\\b f$ can vary explicitly with time),\n",
    "$$\n",
    "\\newcommand{dfdx}{\\frac{\\partial\\b f}{\\partial\\b x_n}}\n",
    "\\newcommand{dfdv}{\\frac{\\partial\\b f}{\\partial\\b v_n}}\n",
    "\\newcommand{dfdt}{\\frac{\\partial\\b f}{\\partial t}}\n",
    "\\begin{align*}\n",
    "\\begin{pmatrix}\\Dx\\\\\\Dv\\end{pmatrix} \\approx\n",
    "h\\begin{bmatrix}\\b v_n + \\Dv\\\\\\b f_n + \\dfdx\\Dx + \\dfdv\\Dv + \\dfdt\\end{bmatrix}\\quad.\n",
    "\\end{align*}\n",
    "$$\n",
    "\n",
    "Subbing the top row into the bottom,\n",
    "$$\n",
    "\\begin{align*}\n",
    "\\Dv = h\\left[\\b f_n+\\dfdx h(\\b v_n+\\Dv) + \\dfdv\\Dv + \\b f(t)\\right]\\quad.\n",
    "\\end{align*}\n",
    "$$\n",
    "\n",
    "Solving for $\\Dv$,\n",
    "$$\n",
    "\\begin{align*}\n",
    "&\\left(\\frac{1}{h}\\b I - h\\dfdx - \\dfdv\\right)\\Dv\n",
    "= \\b f_n + h\\dfdx\\b v_n + \\dfdt \\\\ \n",
    "&\\Longrightarrow\\quad\n",
    "\\Dv = \\left(\\frac{1}{h}\\b I - h\\dfdx - \\dfdv\\right)^{-1}\n",
    "\\left(\\b f_n + h\\dfdx\\b v_n + \\dfdt\\right)\\quad.\n",
    "\\end{align*}\n",
    "$$\n",
    "\n",
    "From there, $\\Dx$ is just $h(v_n + \\Dv)$.\n",
    "\n",
    "Let's apply this to our spring system that blew up before!"
   ]
  },
  {
   "cell_type": "markdown",
   "metadata": {},
   "source": [
    "### Application to Simple Harmonic Oscillator"
   ]
  },
  {
   "cell_type": "markdown",
   "metadata": {},
   "source": [
    "Collecting the relevant relations together again (just using two dimensions for simplicity),\n",
    "$$\n",
    "\\begin{align*}\n",
    "&\\b f_n = \\begin{pmatrix}-\\frac{k}{m}x_n \\\\ 0\\end{pmatrix},\\quad\n",
    "\\dfdx = \\begin{pmatrix}-\\frac{k}{m} & 0\\\\ 0 & 0\\end{pmatrix},\\quad\n",
    "\\dfdv = \\b 0, \\quad \\dfdt = \\b 0\\quad,\\\\\n",
    "&\\left[\\frac{1}{h}\\b I - h\\begin{pmatrix}-\\frac{k}{m}&0\\\\0&0\\end{pmatrix}\\right]^{-1}\n",
    "= \\left[\\begin{pmatrix}\\frac{1}{h}&0\\\\0&\\frac{1}{h}\\end{pmatrix}\n",
    "- \\begin{pmatrix}-\\frac{hk}{m}&0\\\\0&0\\end{pmatrix}\\right]^{-1}\n",
    "= \\begin{bmatrix}\\frac{m+h^2k}{hm}&0\\\\0&\\frac{1}{h}\\end{bmatrix}^{-1}\n",
    "= \\frac{h^2 m}{m + h^2 k}\\begin{pmatrix}\\frac{1}{h}&0\\\\0&\\frac{m+h^2 k}{hm}\\end{pmatrix}\n",
    "\\quad.\n",
    "\\end{align*}\n",
    "$$\n",
    "\n",
    "Plugging it all in,\n",
    "$$\n",
    "\\begin{align*}\n",
    "\\Dv &= \\frac{h^2 m}{m + h^2 k}\n",
    "\\begin{pmatrix}\\frac{1}{h}&0\\\\0&\\frac{m+h^2 k}{hm}\\end{pmatrix}\n",
    "\\left[\\begin{pmatrix}-\\frac{k}{m}x_n\\\\0\\end{pmatrix}\n",
    "+ h\\begin{pmatrix}-\\frac{k}{m}&0\\\\0&0\\end{pmatrix}\n",
    "\\begin{pmatrix}v_n\\\\0\\end{pmatrix}\\right] \\\\\n",
    "&= \\begin{pmatrix}\\frac{hm}{m+h^2m}&0\\\\0&h\\end{pmatrix}\n",
    "\\begin{pmatrix}-\\frac{k}{m}x_n-\\frac{hk}{m}\\\\0\\end{pmatrix}\n",
    "= \\begin{bmatrix}-\\frac{hk(x_n+h)}{m(1+h^2)}\\\\0\\end{bmatrix}\\quad.\n",
    "\\end{align*}\n",
    "$$\n",
    "\n",
    "Applying this to the simple harmonic oscillator using the same initial conditions gives the following results:"
   ]
  },
  {
   "cell_type": "code",
   "execution_count": null,
   "metadata": {
    "scrolled": true
   },
   "outputs": [],
   "source": [
    "import matplotlib.pyplot as plt\n",
    "import numpy as np\n",
    "import seaborn as sns\n",
    "\n",
    "sns.set_style('darkgrid')\n",
    "%config InlineBackend.figure_format = 'retina'\n",
    "\n",
    "# initial conditions\n",
    "x_old = 10\n",
    "v_old = 0\n",
    "k = 1\n",
    "m = 1\n",
    "t_max = 100\n",
    "h = .1 # timestep\n",
    "\n",
    "xs = [x_old] # holds positions\n",
    "vs = [v_old] # holds veclocities\n",
    "\n",
    "# run simulation\n",
    "t = 0\n",
    "while t < t_max:\n",
    "    # implicit Euler method\n",
    "    delta_v = -h*k*(x_old + h) / (m * (1 + h**2))\n",
    "    v_new = v_old + delta_v\n",
    "    delta_x = h*v_new\n",
    "    x_new = x_old + delta_x\n",
    "    \n",
    "    # Euler-Cromer (semi-implicit method)\n",
    "    #v_new = v_old - h*(k/m)*x_old\n",
    "    #x_new = x_old + h*v_new\n",
    "    \n",
    "    # update\n",
    "    xs.append(x_new)\n",
    "    vs.append(v_new)\n",
    "    x_old = x_new\n",
    "    v_old = v_new\n",
    "    t += h\n",
    "\n",
    "plt.plot(xs)\n",
    "plt.xlabel('step')\n",
    "plt.ylabel('x')\n",
    "plt.title('Backward Euler Method')"
   ]
  },
  {
   "cell_type": "markdown",
   "metadata": {},
   "source": [
    "The spring has a stable solution = D\n",
    "\n",
    "Unfortunately, Backward Euler is not very suitable for more complex systems because it is a [single-step method](https://en.wikipedia.org/wiki/Linear_multistep_method). See [here](https://nbviewer.jupyter.org/urls/www.numfys.net/media/notebooks/planetary_motion.ipynb) for an example of it failing. More sophisticated integration schemes are generally needed for more complex system, but fortunately many of these schemes rely on solving the implicit integration problem $\\b X_{n+1} = \\b X_n + h\\b f(\\b X_{n+1})$ we have seen before. One way of approaching this is to re-cast it as the root finding problem\n",
    "$$\n",
    "\\b g(\\b X_{n+1}) = \\b X_{n+1} - \\b X_n - h\\b f(\\b X_{n+1})\\quad.\n",
    "$$\n",
    "\n",
    "Here, the root of the new function $\\b g$ is the solution to our original implicit integration problem. The [Newton-Raphson method](https://en.wikipedia.org/wiki/Newton%27s_method) is a useful root finding algorithm, but it requires the computation of the Jacobian,\n",
    "$$\n",
    "\\b I - h\\b J\\b f(\\b X_{n+1})\\quad.\n",
    "$$\n",
    "\n",
    "Accurately computing the elements of the Jacobian can be numerically expensive, so a method to quickly and accurately compute derivatives would be extremely useful. Enter: **Automatic Differentiation**"
   ]
  },
  {
   "cell_type": "markdown",
   "metadata": {},
   "source": [
    "## Automatic Differentiation"
   ]
  },
  {
   "cell_type": "markdown",
   "metadata": {},
   "source": [
    "This is a method to simultaneously compute a function and its derivative to machine precision. This can be done by introducing the dual number $\\epsilon^2=0$, where $\\epsilon\\ne0$. If we transform some arbitrary function $f(x)$ to $f(x+\\epsilon)$ and expand it, we have:\n",
    "$$\n",
    "\\begin{align*}\n",
    "f(x+\\epsilon) = f(x) + \\epsilon f'(x) + O(\\epsilon^2)\\quad.\n",
    "\\end{align*}\n",
    "$$\n",
    "\n",
    "By the definition of $\\epsilon$, all second order and higher terms in $\\epsilon$ vanish and we are left with $f(x+\\epsilon) = f(x) + \\epsilon f'(x)$, where the dual part, $f'(x)$, of this transformed function is the derivative of our original function $f(x)$. If we adhere to the new system of algebra introduced by dual numbers, we are able to comput derivatives of functions exactly. \n",
    "\n",
    "For example, multiplying two dual numbers $z_1 = a_r + \\epsilon a_d$ and \n",
    "$z_2 = b_r + \\epsilon b_d$ would behave like:\n",
    "$$\n",
    "z_1 \\times z_2 = (a_r + \\epsilon a_d) \\times (b_r + \\epsilon b_d)\n",
    "= a_rb_r + \\epsilon(a_rb_d + a_db_r) + \\epsilon^2 a_db_d\n",
    "= \\boxed{a_rb_r + \\epsilon(a_rb_d + a_db_r)}\\quad.\n",
    "$$\n",
    "\n",
    "Operations like this can be redefined via *operator overloading*, which is shown in [Dual_Numbers.py](#Dual_Numbers.py)"
   ]
  },
  {
   "cell_type": "markdown",
   "metadata": {
    "heading_collapsed": true
   },
   "source": [
    "# Software Organization"
   ]
  },
  {
   "cell_type": "markdown",
   "metadata": {
    "hidden": true
   },
   "source": [
    "The structure of our package is shown below\n",
    "    \n",
    "    AutoDiff/ \n",
    "    \n",
    "        AutoDiff/\n",
    "            __init__.py\n",
    "            dual_numbers.py\n",
    "            autodiff.py\n",
    "        \n",
    "        Tests/\n",
    "            __init__.py\n",
    "            test_autodiff.py\n",
    "\n",
    "        README.md\n",
    "        setup.py\n",
    "        LICENSE\n",
    "        MANIFEST.in\n",
    "        .gitignore\n",
    "        \n",
    "__Testing__\n",
    "\n",
    "* We will use Travis and Coverall to check that we pass the tests.for the testing. \n",
    "\n",
    "* Before we upload our package to Python Packing Index, we will use Test PyPi for testing and experimenting. "
   ]
  },
  {
   "cell_type": "markdown",
   "metadata": {
    "hidden": true
   },
   "source": [
    "## What is in each file?"
   ]
  },
  {
   "cell_type": "markdown",
   "metadata": {
    "hidden": true
   },
   "source": [
    "### __init__.py in AutoDiff\n",
    "```python\n",
    "from .module1 import class1, method1, method2 \n",
    "from .module2 import class2\n",
    "\n",
    "__all__ = ['class1', 'method1', 'method2','class2']\n",
    "```"
   ]
  },
  {
   "cell_type": "markdown",
   "metadata": {
    "hidden": true
   },
   "source": [
    "### __init__.py in test directory\n",
    "```python\n",
    "name=\"AutoDiff_SpaceJam\"\n",
    "```"
   ]
  },
  {
   "cell_type": "markdown",
   "metadata": {
    "hidden": true
   },
   "source": [
    "### README.md"
   ]
  },
  {
   "cell_type": "markdown",
   "metadata": {
    "hidden": true
   },
   "source": [
    "MIT License"
   ]
  },
  {
   "cell_type": "markdown",
   "metadata": {
    "hidden": true
   },
   "source": [
    "### setup.py"
   ]
  },
  {
   "cell_type": "markdown",
   "metadata": {
    "hidden": true
   },
   "source": [
    "```python\n",
    "from setuptools import setup\n",
    "\n",
    "\n",
    "def readme():\n",
    "    with open('README.rst') as f:\n",
    "        return f.read()\n",
    "\n",
    "\n",
    "setup(name='AutoDiff_Orbit',\n",
    "      version='0.1',\n",
    "      description='Automatic differentiation used to calculate orbit',\n",
    "      long_description=readme(),\n",
    "      classifiers=[\n",
    "        'Development Status :: 3 - Alpha',\n",
    "        'License :: OSI Approved :: MIT License',\n",
    "        'Programming Language :: Python :: 3.6',\n",
    "        'Topic :: Text Processing :: Linguistic',\n",
    "      ],\n",
    "      keywords='automatic differentiation orbit dual',\n",
    "      url='http://github.com/[CS207_SpaceJam]',\n",
    "      author='SpaceJam',\n",
    "      license='MIT',\n",
    "      packages=['AutoDiff'],\n",
    "      install_requires=[\n",
    "          'markdown',\n",
    "      ],\n",
    "      test_suite='nose.collector',\n",
    "      tests_require=['nose', 'nose-cover3'],\n",
    "      include_package_data=True,\n",
    "      zip_safe=False)\n",
    "```"
   ]
  },
  {
   "cell_type": "markdown",
   "metadata": {
    "hidden": true
   },
   "source": [
    "### LICENCE\n",
    "MIT License"
   ]
  },
  {
   "cell_type": "markdown",
   "metadata": {
    "hidden": true
   },
   "source": [
    "### MANIFEST.in\n",
    "include README.md"
   ]
  },
  {
   "cell_type": "markdown",
   "metadata": {
    "hidden": true
   },
   "source": [
    "### .gitignore#"
   ]
  },
  {
   "cell_type": "markdown",
   "metadata": {
    "hidden": true
   },
   "source": [
    "Compiled python modules."
   ]
  },
  {
   "cell_type": "markdown",
   "metadata": {
    "hidden": true
   },
   "source": [
    "```python\n",
    "*.pyc\n",
    "*.ipynb_checkpoints\n",
    "\n",
    "# Setuptools build folder.\n",
    "build/\n",
    "\n",
    "# Setuptools distribution folder.\n",
    "dist/\n",
    "\n",
    "# Python egg metadata, regenerated from source files by setuptools.\n",
    "*.egg-info\n",
    "*.egg\n",
    "```"
   ]
  },
  {
   "cell_type": "markdown",
   "metadata": {
    "hidden": true
   },
   "source": [
    "### Dual_Numbers.py"
   ]
  },
  {
   "cell_type": "markdown",
   "metadata": {
    "hidden": true
   },
   "source": [
    "```python\n",
    "import numpy as np\n",
    "\n",
    "class Dual():\n",
    "    \"\"\" Create dual numbers and performing elementary math \n",
    "        operations.\n",
    "    \"\"\"\n",
    "\n",
    "    def __init__(self, a_r, a_d=0):\n",
    "        \"\"\" Initializes the components of Dual object. If only real part\n",
    "            given, dual part is automatically set to zero.\n",
    "        \n",
    "        INPUTS\n",
    "        =======\n",
    "        a_r: int or float\n",
    "           real part of Dual object \n",
    "        a_d: int or float, optional, default value is 0\n",
    "           dual part of Dual object   \n",
    "        \"\"\"\n",
    "        self.r = a_r\n",
    "        self.d = a_d\n",
    "\n",
    "    def __add__(self, other):\n",
    "        \"\"\" Returns the addition of self and other\n",
    "        \n",
    "        INPUTS\n",
    "        =======\n",
    "        self: Dual object\n",
    "        other: Dual object, float, or int\n",
    "        \n",
    "        RETURNS\n",
    "        ========\n",
    "        z: Dual object that is the sum of self and other\n",
    "        \n",
    "        EXAMPLES\n",
    "        =========\n",
    "        >>> z = Dual(1, 2) + Dual(3, 4)\n",
    "        >>> print(z.r, z.d)\n",
    "        4 6\n",
    "        >>> z = 2 + Dual(1, 2)\n",
    "        >>> print(z.r, z.d)\n",
    "        3 2\n",
    "        \"\"\"\n",
    "        try:\n",
    "            real = self.r + other.r\n",
    "            dual = self.d + other.d\n",
    "        \n",
    "        except AttributeError:\n",
    "            real = self.r + other\n",
    "            dual = self.d \n",
    "        \n",
    "        z = Dual(real, dual)\n",
    "        return z\n",
    "    \n",
    "    __radd__ = __add__ # addition commutes\n",
    "    \n",
    "    def __sub__(self, other):\n",
    "        \"\"\" Returns the subtraction of self and other\n",
    "        \n",
    "        INPUTS\n",
    "        =======\n",
    "        self: Dual object\n",
    "        other: Dual object, float, or int\n",
    "        \n",
    "        RETURNS\n",
    "        ========\n",
    "        z: Dual object\n",
    "           difference of self and other\n",
    "           \n",
    "        NOTES\n",
    "        ======\n",
    "        Subtraction does not commute in general. \n",
    "        A specialized __rsub__ is required. \n",
    "        \n",
    "        EXAMPLES\n",
    "        =========\n",
    "        >>> z = Dual(1, 2) - Dual(3, 4)\n",
    "        >>> print(z.r, z.d)\n",
    "        -2 -2\n",
    "        >>> z = Dual(1, 2) - 2\n",
    "        >>> print(z.r, z.d)\n",
    "        -1 2\n",
    "        \"\"\"\n",
    "        try:\n",
    "            real = self.r - other.r\n",
    "            dual = self.d - other.d\n",
    "        \n",
    "        except AttributeError:\n",
    "            real = self.r - other\n",
    "            dual = self.d \n",
    "        \n",
    "        z = Dual(real, dual)\n",
    "        return z\n",
    "    \n",
    "    def __rsub__(self, other):\n",
    "        \"\"\" Returns the subtraction of other from self\n",
    "        \n",
    "        INPUTS\n",
    "        =======\n",
    "        self: Dual object\n",
    "        other: Dual object, float, or int\n",
    "        \n",
    "        RETURNS\n",
    "        ========\n",
    "        z: Dual object\n",
    "           difference of other and self\n",
    "        EXAMPLES\n",
    "        =========\n",
    "        >>> z = 2 - Dual(1, 2)\n",
    "        >>> print(z.r, z.d)\n",
    "        1 -2\n",
    "        \"\"\"\n",
    "        real = other - self.r\n",
    "        dual = -self.d\n",
    "        \n",
    "        z = Dual(real, dual)\n",
    "        return z\n",
    "    \n",
    "    def __mul__(self, other):\n",
    "        \"\"\" Returns the product of self and other\n",
    "        \n",
    "        INPUTS\n",
    "        =======\n",
    "        self: Dual object\n",
    "        other: Dual object, float, or int\n",
    "        RETURNS\n",
    "        ========\n",
    "        z: Dual object that is the product of self and other\n",
    "        \n",
    "        EXAMPLES\n",
    "        =========\n",
    "        >>> z = Dual(1, 2) * Dual(3, 4)\n",
    "        >>> print(z.r, z.d)\n",
    "        3 10\n",
    "        >>> z = 2 * Dual(1, 2)\n",
    "        >>> print(z.r, z.d)\n",
    "        2 4\n",
    "        \"\"\"\n",
    "        try:\n",
    "            real = self.r*other.r \n",
    "            dual = self.r*other.d + self.d*other.r\n",
    "        except AttributeError:\n",
    "            real = self.r*other\n",
    "            dual = self.d*other\n",
    "        \n",
    "        z = Dual(real, dual)\n",
    "        return z\n",
    "\n",
    "    __rmul__ = __mul__ # multiplication commutes\t\n",
    "    \n",
    "    def __truediv__(self, other):\n",
    "        \"\"\" Returns the quotient of self and other\n",
    "        \n",
    "        INPUTS\n",
    "        =======\n",
    "        self: Dual object\n",
    "        other: Dual object, float, or int\n",
    "        \n",
    "        RETURNS\n",
    "        ========\n",
    "        z: Dual object that is the quotient of self and other\n",
    "        \n",
    "        EXAMPLES\n",
    "        =========\n",
    "        >>> z = Dual(1, 2) / 2\n",
    "        >>> print(z.r, z.d)\n",
    "        0.5 1.0\n",
    "        >>> z = Dual(3, 4) / Dual(1, 2)\n",
    "        >>> print(z.r, z.d)\n",
    "        3.0 -2.0\n",
    "        \"\"\"\n",
    "        try:\n",
    "            real = (self.r*other.r)/other.r**2\n",
    "            dual = (self.d*other.r - self.r*other.d)/other.r**2\n",
    "        except AttributeError:\n",
    "            real = (self.r*other)/other**2\n",
    "            dual = (self.d*other)/other**2\n",
    "        \n",
    "        z = Dual(real, dual)\n",
    "        return z\n",
    "    \n",
    "    def __rtruediv__(self, other):\n",
    "        \"\"\" Returns the quotient of other and self\n",
    "        \n",
    "        INPUTS\n",
    "        =======\n",
    "        self: Dual object\n",
    "        other: Dual object, float, or int\n",
    "        \n",
    "        RETURNS\n",
    "        ========\n",
    "        z: Dual object that is the product of self and other\n",
    "        \n",
    "        EXAMPLES\n",
    "        =========\n",
    "        >>> z = 2 / Dual(1, 2)\n",
    "        >>> print(z.r, z.d)\n",
    "        2.0 -4.0\n",
    "        \"\"\"\n",
    "        real = (other*self.r)/self.r**2\n",
    "        dual = -(other*self.d)/self.r**2\n",
    "        \n",
    "        z = Dual(real, dual)\n",
    "        return z\n",
    "\n",
    "    def __repr__(self):\n",
    "        \"\"\" Prints self in the form a + bi, where self = Dual(a, b)\n",
    "        \n",
    "        RETURNS\n",
    "        ========\n",
    "        z: Dual object that is the product of self and other\n",
    "        \n",
    "        EXAMPLES\n",
    "        =========\n",
    "        >>> z = Dual(1, 2)\n",
    "        >>> print(z)\n",
    "        1 + e 2\n",
    "        \"\"\"\n",
    "        if self.d >= 0:\n",
    "            s = f'{self.r} + e {self.d}' \n",
    "        else:\n",
    "            s = f'{self.r} - e {np.abs(self.d)}'\n",
    "\n",
    "        return s\n",
    "     \n",
    "    def __inverse__(self):\n",
    "        \"\"\" Returns the inverse of self\n",
    "        \n",
    "        INPUTS\n",
    "        =======\n",
    "        self: Dual object\n",
    "        RETURNS\n",
    "        ========\n",
    "        z: 1/self\n",
    "        \n",
    "        EXAMPLES\n",
    "        =========\n",
    "        >>> z = inverse(Dual(2,1))\n",
    "        >>> print(z.r, z.d)\n",
    "        1/2, -1/4\n",
    "        \"\"\"\n",
    "        return Dual(1/self.r, -self.d/(self.r**2));\n",
    "        \n",
    "    def __exp__(self):\n",
    "        \"\"\" Returns the exponentiate of a\n",
    "        \n",
    "        INPUTS\n",
    "        =======\n",
    "        self: Dual object\n",
    "        RETURNS\n",
    "        ========\n",
    "        z: exponentiate of self\n",
    "        \n",
    "        EXAMPLES\n",
    "        =========\n",
    "        >>> z = exp(Dual(2,1))\n",
    "        >>> print(z.r, z.d)\n",
    "        2 7.4\n",
    "        \"\"\"\n",
    "        return Dual(exp(self.r), self.d * exp(self.r));\n",
    "     \n",
    "#     def __sqrt__(self):\n",
    "#         \"\"\" Returns the square root of self\n",
    "        \n",
    "#         INPUTS\n",
    "#         =======\n",
    "#         self: Dual object\n",
    "#         RETURNS\n",
    "#         ========\n",
    "#         z: square root of self\n",
    "        \n",
    "#         EXAMPLES\n",
    "#         =========\n",
    "#         >>> z = sqrt(Dual(4,1))\n",
    "#         >>> print(z.r, z.d)\n",
    "#         4, 0.25\n",
    "#         \"\"\"\n",
    "#         r_sqrt=sqrt(self.r)\n",
    "#         return Dual(r_sqrt, 0.5f * self.d/r_sqrt)\n",
    "    \n",
    "#     def __pow__(self, power):\n",
    "#         self.r*power.r*(1+ε(self.d*ln(self.r)+(self.d*power.r)/self.r)\n",
    "#         #ac(1+ε(dlna+bc/a))\n",
    "#         z.real=self.r*power.r\n",
    "#         z.dual=\n",
    "#         return(z.real, z.dual)\n",
    "    \n",
    "    def __log__(a):\n",
    "        \"\"\" Returns the log of a with base e\n",
    "        \n",
    "        INPUTS\n",
    "        =======\n",
    "        self: Dual object\n",
    "        RETURNS\n",
    "        ========\n",
    "        z: log of self\n",
    "        \n",
    "        EXAMPLES\n",
    "        =========\n",
    "        >>> z = log(Dual(2,1))\n",
    "        >>> print(z.r, z.d)\n",
    "        0.3, 0.5\n",
    "        \"\"\"\n",
    "        return Dual(log(a.real), a.dual/a.real);\n",
    "            \n",
    "    #Trigonometric functions\n",
    "    def __sin__(a):\n",
    "        \"\"\" Returns the sine of a\n",
    "        \n",
    "        INPUTS\n",
    "        =======\n",
    "        self: Dual object\n",
    "        \n",
    "        RETURNS\n",
    "        ========\n",
    "        z: sine of self\n",
    "        \n",
    "        EXAMPLES\n",
    "        =========\n",
    "        >>> z = sin(Dual(0,1))\n",
    "        >>> print(z.r, z.d)\n",
    "        0, 1\n",
    "        \"\"\"\n",
    "        return Dual(sin(a.real), a.dual .* cos(a.real))\n",
    "        \n",
    "    def __cos__(a):\n",
    "        \"\"\" Returns the cosine of a\n",
    "        \n",
    "        INPUTS\n",
    "        =======\n",
    "        self: Dual object\n",
    "        \n",
    "        RETURNS\n",
    "        ========\n",
    "        z: cosine of self\n",
    "        \n",
    "        EXAMPLES\n",
    "        =========\n",
    "        >>> z = cosine(Dual(0,1))\n",
    "        >>> print(z.r, z.d)\n",
    "        1, 0\n",
    "        \"\"\"\n",
    "        return Dual(cos(a.real), -a.dual .* sin(a.real));\n",
    "    def __tan__(a):\n",
    "        \"\"\" Returns the tangent of a\n",
    "        \n",
    "        INPUTS\n",
    "        =======\n",
    "        self: Dual object\n",
    "        \n",
    "        RETURNS\n",
    "        ========\n",
    "        z: tangent of self\n",
    "        \n",
    "        EXAMPLES\n",
    "        =========\n",
    "        >>> z = tan(Dual(0,1))\n",
    "        >>> print(z.r, z.d)\n",
    "        0, 1\n",
    "        \"\"\"\n",
    "    \n",
    "        return Dual(tan(a.real), a.dual .* sec(a.real).^2);\n",
    "        \n",
    "```"
   ]
  },
  {
   "cell_type": "markdown",
   "metadata": {
    "hidden": true
   },
   "source": [
    "### AutoDiff.py"
   ]
  },
  {
   "cell_type": "markdown",
   "metadata": {
    "hidden": true
   },
   "source": [
    "### Test_AutoDiff.py"
   ]
  },
  {
   "cell_type": "markdown",
   "metadata": {
    "hidden": true
   },
   "source": [
    "```python\n",
    "import Dual\n",
    "import pytest\n",
    "\n",
    "class UnitTest_Dual(): \n",
    "    def test_dual_add():\n",
    "        assert Dual(1,2)+2 == (3,2)\n",
    "        \n",
    "    def test_dual_mul():\n",
    "        assert 2 * Dual(1,2) == (2,4)\n",
    "\n",
    "    def test_dual_truediv():\n",
    "        assert Dual(1,2)/Dual(1,2) ==(3.0, -2.0)\n",
    "        \n",
    "    def test_dual_trigsin():\n",
    "        assert sin(Dual(30,1))=Dual(30, 1*cos(30))\n",
    "\n",
    "class Test_AutoDiff():\n",
    "```"
   ]
  }
 ],
 "metadata": {
  "kernelspec": {
   "display_name": "Python 3",
   "language": "python",
   "name": "python3"
  },
  "language_info": {
   "codemirror_mode": {
    "name": "ipython",
    "version": 3
   },
   "file_extension": ".py",
   "mimetype": "text/x-python",
   "name": "python",
   "nbconvert_exporter": "python",
   "pygments_lexer": "ipython3",
   "version": "3.6.5"
  },
  "toc": {
   "colors": {
    "hover_highlight": "#DAA520",
    "navigate_num": "#fc151b",
    "navigate_text": "#92a2be",
    "running_highlight": "#FF0000",
    "selected_highlight": "#FFD700",
    "sidebar_border": "#EEEEEE",
    "wrapper_background": "#FFFFFF"
   },
   "moveMenuLeft": true,
   "nav_menu": {
    "height": "430px",
    "width": "450px"
   },
   "navigate_menu": true,
   "number_sections": false,
   "sideBar": true,
   "threshold": 4,
   "toc_cell": false,
   "toc_section_display": "block",
   "toc_window_display": false,
   "widenNotebook": false
  }
 },
 "nbformat": 4,
 "nbformat_minor": 2
}
