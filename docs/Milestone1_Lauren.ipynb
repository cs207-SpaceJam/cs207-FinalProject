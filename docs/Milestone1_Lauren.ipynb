{
 "cells": [
  {
   "cell_type": "markdown",
   "metadata": {},
   "source": [
    "### Put it all toghether\n",
    "\n",
    "AutoDiff/ \n",
    "\n",
    "    AutoDiff/\n",
    "    \n",
    "        __init__.py\n",
    "        dual_numbers.py\n",
    "        autodiff.py\n",
    "    Tests/\n",
    "        __init__.py\n",
    "        test_autodiff.py\n",
    "\n",
    "    README.md\n",
    "    setup.py\n",
    "    LICENSE\n",
    "    MANIFEST.in\n",
    "    .gitignore"
   ]
  },
  {
   "cell_type": "markdown",
   "metadata": {},
   "source": [
    "## What is in each file?"
   ]
  },
  {
   "cell_type": "markdown",
   "metadata": {},
   "source": [
    "### __init__.py in AutoDiff\n",
    "from .module1 import class1, method1, method2 \n",
    "from .module2 import class2\n",
    "\n",
    "__all__ = ['class1', 'method1', 'method2','class2']"
   ]
  },
  {
   "cell_type": "markdown",
   "metadata": {},
   "source": [
    "### __init__.py in test directory\n",
    "name=\"AutoDiff_SpaceJam\""
   ]
  },
  {
   "cell_type": "markdown",
   "metadata": {},
   "source": [
    "### README.md"
   ]
  },
  {
   "cell_type": "markdown",
   "metadata": {},
   "source": [
    "### setup.py\n",
    "```python\n",
    "from setuptools import setup\n",
    "\n",
    "\n",
    "def readme():\n",
    "    with open('README.rst') as f:\n",
    "        return f.read()\n",
    "\n",
    "\n",
    "setup(name='AutoDiff_Orbit',\n",
    "      version='0.1',\n",
    "      description='Automatic differentiation used to calculate orbit',\n",
    "      long_description=readme(),\n",
    "      classifiers=[\n",
    "        'Development Status :: 3 - Alpha',\n",
    "        'License :: OSI Approved :: MIT License',\n",
    "        'Programming Language :: Python :: 3.6',\n",
    "        'Topic :: Text Processing :: Linguistic',\n",
    "      ],\n",
    "      keywords='automatic differentiation orbit dual',\n",
    "      url='http://github.com/[CS207_SpaceJam]',\n",
    "      author='SpaceJam',\n",
    "      license='MIT',\n",
    "      packages=['AutoDiff'],\n",
    "      install_requires=[\n",
    "          'markdown',\n",
    "      ],\n",
    "      test_suite='nose.collector',\n",
    "      tests_require=['nose', 'nose-cover3'],\n",
    "      include_package_data=True,\n",
    "      zip_safe=False)\n",
    "```"
   ]
  },
  {
   "cell_type": "markdown",
   "metadata": {},
   "source": [
    "### LICENCE\n",
    "MIT License"
   ]
  },
  {
   "cell_type": "markdown",
   "metadata": {},
   "source": [
    "### MANIFEST.in\n",
    "include README.md"
   ]
  },
  {
   "cell_type": "markdown",
   "metadata": {},
   "source": [
    "### .gitignore# \n",
    "Compiled python modules.\n",
    "\n",
    "```python\n",
    "*.pyc\n",
    "\n",
    "# Setuptools distribution folder.\n",
    "/dist/\n",
    "\n",
    "# Python egg metadata, regenerated from source files by setuptools.\n",
    "/*.egg-info\n",
    "/*.egg\n",
    "```"
   ]
  },
  {
   "cell_type": "markdown",
   "metadata": {},
   "source": [
    "### Dual_Numbers.py\n",
    "```python\n",
    "class DualNumber:\n",
    "    def add:\n",
    "    def substract:\n",
    "    def multiply:\n",
    "    def divide: \n",
    "    def sqrt:\n",
    "    def power:\n",
    "    def sin:\n",
    "    def cos:\n",
    "    def tan:\n",
    "```"
   ]
  },
  {
   "cell_type": "markdown",
   "metadata": {},
   "source": [
    "### AutoDiff.py\n"
   ]
  },
  {
   "cell_type": "markdown",
   "metadata": {
    "collapsed": true
   },
   "source": [
    "### test_autodiff.py\n",
    "\n",
    "```python\n",
    "import AutoDiff\n",
    "\n",
    "class TestDual(x):\n",
    "\n",
    "class TestAutoDiff(TestCase):\n",
    "    def test_can_run(self):\n",
    "        x=rand(num_points)\n",
    "        y=rand(num_points)\n",
    "        \n",
    "        x_test=rand(num_test)\n",
    "        y_test=rand(num_test)\n",
    "        \n",
    "        rmse=my_autodiff.rmse_score(y_test, y_predict)\n",
    "        self.assertTrue(rmse > 0)\n",
    "```"
   ]
  }
 ],
 "metadata": {
  "kernelspec": {
   "display_name": "Python 3",
   "language": "python",
   "name": "python3"
  },
  "language_info": {
   "codemirror_mode": {
    "name": "ipython",
    "version": 3
   },
   "file_extension": ".py",
   "mimetype": "text/x-python",
   "name": "python",
   "nbconvert_exporter": "python",
   "pygments_lexer": "ipython3",
   "version": "3.6.3"
  }
 },
 "nbformat": 4,
 "nbformat_minor": 2
}
