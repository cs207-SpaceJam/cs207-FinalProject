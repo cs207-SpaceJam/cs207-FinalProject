{
 "cells": [
  {
   "cell_type": "code",
   "execution_count": 30,
   "metadata": {},
   "outputs": [],
   "source": [
    "import numpy as np\n",
    "import DualNumber as d"
   ]
  },
  {
   "cell_type": "markdown",
   "metadata": {},
   "source": [
    "# Scalar function, returns gradient vector"
   ]
  },
  {
   "cell_type": "code",
   "execution_count": 177,
   "metadata": {},
   "outputs": [
    {
     "data": {
      "text/plain": [
       "26.80 + e [ 6.64 10.2 ]"
      ]
     },
     "execution_count": 177,
     "metadata": {},
     "output_type": "execute_result"
    }
   ],
   "source": [
    "def f(x, y): # can be x, y, x_0, x_1, whatev\n",
    "    return 3*x*y - 2*y**3/x\n",
    "\n",
    "p = np.array([5, 2]) # evaluation point\n",
    "\n",
    "p_x = d.Dual(p[0], idx=0, x=p)\n",
    "p_y = d.Dual(p[1], idx=1, x=p)\n",
    "\n",
    "# should print f(p), grad(f) evaluated at p\n",
    "f(p_x, p_y)"
   ]
  },
  {
   "cell_type": "code",
   "execution_count": 180,
   "metadata": {},
   "outputs": [
    {
     "name": "stdout",
     "output_type": "stream",
     "text": [
      "26.8 (6.64, 10.2)\n"
     ]
    }
   ],
   "source": [
    "# Check\n",
    "def grad_f(x, y):\n",
    "    return (3*y + 2*y**3/x**2, 3*x - 6*y**2/x)\n",
    "\n",
    "print(f(*p), grad_f(*p))"
   ]
  },
  {
   "cell_type": "markdown",
   "metadata": {},
   "source": [
    "# Vector function, returns Jacobian matrix"
   ]
  },
  {
   "cell_type": "code",
   "execution_count": 286,
   "metadata": {},
   "outputs": [
    {
     "data": {
      "text/plain": [
       "array([5.00 + e [4. 1.], 9.00 + e [10. 12.], 29.00 + e [ 1. 48.]],\n",
       "      dtype=object)"
      ]
     },
     "execution_count": 286,
     "metadata": {},
     "output_type": "execute_result"
    }
   ],
   "source": [
    "def F(x, y):\n",
    "    f1 = x**2 + x*y + 2\n",
    "    f2 = x*y**3 + x**2\n",
    "    f3 = y**3/x + x + x**2*y**2 + y**4\n",
    "    return np.array([f1, f2, f3])\n",
    "\n",
    "p = np.array([1, 2])\n",
    "p_x = d.Dual(p[0], idx=0, x=p)\n",
    "p_y = d.Dual(p[1], idx=1, x=p)\n",
    "\n",
    "F(p_x, p_y)"
   ]
  },
  {
   "cell_type": "markdown",
   "metadata": {},
   "source": [
    "Kind of ugly, but for each $i$th entry, the real part is the $i$th component of $\\mathbf{F}(\\mathbf{p})$ and the dual part is the corresponding row in our Jacobian! The output can be cleaned up a bit with"
   ]
  },
  {
   "cell_type": "code",
   "execution_count": 298,
   "metadata": {},
   "outputs": [
    {
     "data": {
      "text/plain": [
       "array([[ 4.,  1.],\n",
       "       [10., 12.],\n",
       "       [ 1., 48.]])"
      ]
     },
     "execution_count": 298,
     "metadata": {},
     "output_type": "execute_result"
    }
   ],
   "source": [
    "ad = F(p_x, p_y)\n",
    "\n",
    "Jac = np.empty((F(*p).size, p.size))\n",
    "for i, f in enumerate(ad):\n",
    "    Jac[i] = f.d\n",
    "\n",
    "Jac"
   ]
  },
  {
   "cell_type": "markdown",
   "metadata": {},
   "source": [
    "Where the output is automatically an `ndarray`"
   ]
  },
  {
   "cell_type": "code",
   "execution_count": 297,
   "metadata": {},
   "outputs": [
    {
     "name": "stdout",
     "output_type": "stream",
     "text": [
      "[ 5.  9. 29.] \n",
      "\n",
      " [[ 4.  1.]\n",
      " [10. 12.]\n",
      " [ 1. 48.]]\n"
     ]
    }
   ],
   "source": [
    "# Check\n",
    "def jac_F(x, y):\n",
    "    grad_f1 = np.array([2*x + y, x])\n",
    "    grad_f2 = np.array([y**3 + 2*x, 3*x*y**2])\n",
    "    grad_f3 = np.array([-y**3/x**2 + 1 + 2*x*y**2, \n",
    "                        3*y**2/x + 2*x**2*y + 4*y**3])\n",
    "    return(np.array([grad_f1, grad_f2, grad_f3]))\n",
    "\n",
    "print(F(*p), '\\n\\n' ,jac_F(*p))"
   ]
  }
 ],
 "metadata": {
  "kernelspec": {
   "display_name": "Python 3",
   "language": "python",
   "name": "python3"
  },
  "language_info": {
   "codemirror_mode": {
    "name": "ipython",
    "version": 3
   },
   "file_extension": ".py",
   "mimetype": "text/x-python",
   "name": "python",
   "nbconvert_exporter": "python",
   "pygments_lexer": "ipython3",
   "version": "3.6.5"
  },
  "toc": {
   "colors": {
    "hover_highlight": "#DAA520",
    "navigate_num": "#fc151b",
    "navigate_text": "#92a2be",
    "running_highlight": "#FF0000",
    "selected_highlight": "#FFD700",
    "sidebar_border": "#EEEEEE",
    "wrapper_background": "#FFFFFF"
   },
   "moveMenuLeft": true,
   "nav_menu": {
    "height": "45px",
    "width": "250px"
   },
   "navigate_menu": true,
   "number_sections": false,
   "sideBar": true,
   "threshold": 4,
   "toc_cell": false,
   "toc_section_display": "block",
   "toc_window_display": false,
   "widenNotebook": false
  }
 },
 "nbformat": 4,
 "nbformat_minor": 2
}
