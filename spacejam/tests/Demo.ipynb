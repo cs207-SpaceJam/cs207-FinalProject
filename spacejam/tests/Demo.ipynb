{
 "cells": [
  {
   "cell_type": "markdown",
   "metadata": {},
   "source": [
    "## Installation"
   ]
  },
  {
   "cell_type": "markdown",
   "metadata": {},
   "source": [
    "source venv/bin/activate"
   ]
  },
  {
   "cell_type": "markdown",
   "metadata": {},
   "source": [
    "## Demo"
   ]
  },
  {
   "cell_type": "markdown",
   "metadata": {},
   "source": [
    "These following series of demos will walk you through how to differentiate a wide variety of functions with `spacejam`"
   ]
  },
  {
   "cell_type": "markdown",
   "metadata": {},
   "source": [
    "### Demo I: Scalar function, scalar input"
   ]
  },
  {
   "cell_type": "markdown",
   "metadata": {},
   "source": [
    "This is the simplest case, where the function you provide takes in a single scalar argument $(x=a)$ and outputs a single scalar value $f(a)$.\n",
    "\n",
    "For example, let's take a look at the function $f(x) = x^3$, which you can define below as:"
   ]
  },
  {
   "cell_type": "code",
   "execution_count": 8,
   "metadata": {
    "collapsed": true
   },
   "outputs": [],
   "source": [
    "def f(x):\n",
    "    return x**3"
   ]
  },
  {
   "cell_type": "markdown",
   "metadata": {},
   "source": [
    "All `spacejam` needs is a value $(x=p)$ to evalute your function at and a dual number object $p_x = f(x) + \\epsilon_x$ which is needed for `spacejam` to perform the automatic differentiation of your function wrt. $x$. Luckily, `spacejam` creates this object for you with"
   ]
  },
  {
   "cell_type": "code",
   "execution_count": 1,
   "metadata": {
    "collapsed": true
   },
   "outputs": [],
   "source": [
    "import spacejam.Dual as d\n",
    "p = 5  # evaluation point\n",
    "p_x = d.Dual(p) # call Dual object"
   ]
  },
  {
   "cell_type": "markdown",
   "metadata": {},
   "source": [
    "for an example value of $x = 5$ to evaluate your function at. Now, evaluating your function at $x=5$ and simultaneously computing the derivative at this point is as easy as"
   ]
  },
  {
   "cell_type": "code",
   "execution_count": 10,
   "metadata": {},
   "outputs": [
    {
     "data": {
      "text/plain": [
       "125.00 + e 75.00"
      ]
     },
     "execution_count": 10,
     "metadata": {},
     "output_type": "execute_result"
    }
   ],
   "source": [
    "ad = f(p_x)\n",
    "ad"
   ]
  },
  {
   "cell_type": "markdown",
   "metadata": {},
   "source": [
    "where the real part is $f(x=5) = 125$ and the dual part is \n",
    "$$\n",
    "\\begin{align*}\n",
    "\\left.\\frac{\\mathrm d f}{\\mathrm d x}\\right|_{x=5} = 75\\quad.\n",
    "\\end{align*}\n",
    "$$"
   ]
  },
  {
   "cell_type": "markdown",
   "metadata": {},
   "source": [
    "The real and dual parts can also be conveniently accessed with,"
   ]
  },
  {
   "cell_type": "code",
   "execution_count": 11,
   "metadata": {},
   "outputs": [
    {
     "name": "stdout",
     "output_type": "stream",
     "text": [
      "125.0\n",
      "75.0\n"
     ]
    }
   ],
   "source": [
    "print(ad.r) # real part f(x=p)\n",
    "print(ad.d) # dual part df/dx|x=p"
   ]
  },
  {
   "cell_type": "markdown",
   "metadata": {},
   "source": [
    "Note: The dual part is returned as a `numpy` array because `spacejam` can also operate on multivariable functions and parameters, which we outline in the next two sections."
   ]
  },
  {
   "cell_type": "markdown",
   "metadata": {},
   "source": [
    "### Demo II: Scalar function with vector input"
   ]
  },
  {
   "cell_type": "markdown",
   "metadata": {},
   "source": [
    "This next demo explores the case where a new example function $f$ can accept vector input, for example $\\mathbf p = (x_1, x_2) = (5, 2)$ and return a single scalar value $f(\\mathbf p) = f(x_1, x_2) = 3x_1x_2 - 2x_2^3/x_1$.\n",
    "\n",
    "The dual number objects are created in much the same way as in \n",
    "[Demo I](###Demo%20I:%20Scalar%20function,%20scalar%20input),\n",
    "with the only difference being the specification of separate dual number objects $$\n",
    "\\begin{align*}\n",
    "p_{x_1} &= f(x_1, x_2) + \\epsilon_{x_1} \\frac{\\partial f}{\\partial x_1}\n",
    "+ \\epsilon_{x_2} 0\\\\\n",
    "p_{x_2} &= f(x_1, x_2) + \\epsilon_{x_1} 0\n",
    "+ \\epsilon_{x_2} \\frac{\\partial f}{\\partial x_2}\n",
    "\\end{align*}\\quad.\n",
    "$$\n",
    "\n",
    "This is accomplished with `idx` and `x` argument that you supply to `spacejam` so that it knows which dual parts need to be set to zero in the modified dual numbers above. In this modified setup, `spacejam` now returns\n",
    "$$\n",
    "\\begin{align*}\n",
    "f(\\mathbf p) + \\epsilon_{x_1}\\frac{\\partial f}{\\partial x_1} \n",
    "+ \\epsilon_{x_2}\\frac{\\partial f}{\\partial x_2}\n",
    "\\equiv f(\\mathbf p) + \\epsilon \\left[\\frac{\\partial f}{\\partial x_1}, \n",
    "\\frac{\\partial f}{\\partial x_2}\\right] = f(\\mathbf p) + \\epsilon\\nabla f\n",
    "\\end{align*}\\quad.\n",
    "$$\n",
    "\n",
    "Applying this to the new function $f$ would look like the following"
   ]
  },
  {
   "cell_type": "code",
   "execution_count": 6,
   "metadata": {
    "scrolled": true
   },
   "outputs": [
    {
     "data": {
      "text/plain": [
       "26.80 + eps [ 6.64 10.2 ]"
      ]
     },
     "execution_count": 6,
     "metadata": {},
     "output_type": "execute_result"
    }
   ],
   "source": [
    "import numpy as np \n",
    "\n",
    "def f(x_1, x_2): \n",
    "    return 3*x_1*x_2 - 2*x_2**3/x_1\n",
    "\n",
    "p = np.array([5, 2]) # evaluation point (x_1, x_2) = (5, 2)\n",
    "\n",
    "p_x1 = d.Dual(p[0], idx=0, x=p) \n",
    "p_x2 = d.Dual(p[1], idx=1, x=p)\n",
    "\n",
    "# print f(p) and grad(f) evaluated at p\n",
    "ad = f(p_x1, p_x2)\n",
    "ad"
   ]
  },
  {
   "cell_type": "code",
   "execution_count": null,
   "metadata": {
    "collapsed": true
   },
   "outputs": [],
   "source": [
    "26.80 + e [ 6.64 10.2 ]"
   ]
  },
  {
   "cell_type": "markdown",
   "metadata": {},
   "source": [
    "The real and dual parts can again be accessed with"
   ]
  },
  {
   "cell_type": "code",
   "execution_count": 6,
   "metadata": {},
   "outputs": [
    {
     "name": "stdout",
     "output_type": "stream",
     "text": [
      "26.8\n",
      "[ 6.64 10.2 ]\n"
     ]
    }
   ],
   "source": [
    "print(ad.r)\n",
    "print(ad.d)"
   ]
  },
  {
   "cell_type": "markdown",
   "metadata": {},
   "source": [
    "where now, the dual part is a 1D `numpy` array that is the representation of $\\nabla f$ evaluated at $\\mathbf p = (5, 2)$ ."
   ]
  },
  {
   "cell_type": "markdown",
   "metadata": {},
   "source": [
    "### Demo III: Vector function with vector input"
   ]
  },
  {
   "cell_type": "markdown",
   "metadata": {},
   "source": [
    "This final demo shows how to use `spacejam` to simultaneously evaluate the example vector function\n",
    "$$\n",
    "\\mathbf{F} = \\begin{bmatrix}f_1(x_1, x_2)\\\\f_2{x_1, x_2}\n",
    "\\\\f_{3}(x_1, x_2)\\end{bmatrix}\n",
    "= \\begin{bmatrix}\n",
    "x_1^2 + x_1x_2 + 2 \\\\ x_1x_2^3 + x_1^2 \\\\ x_2^3/x_1 + x_1 + x_1^2x_2^2 + x_2^4\n",
    "\\end{bmatrix}\n",
    "$$\n",
    "\n",
    "and its Jacobian,\n",
    "\n",
    "$$\n",
    "\\mathbf J = \\begin{bmatrix}\n",
    "\\nabla f_1(x_1, x_2) \\\\ \\nabla f_2(x_1, x_2) \\\\ \\nabla f_3(x_1, x_2)\n",
    "\\end{bmatrix}\\quad.\n",
    "$$\n",
    "\n",
    "at the point $\\mathbf{p} = (x_1, x_2) = (1, 2)$ .\n",
    "\n",
    "The configuration of `spacejam` happens to be exactly the same as in [Demo II](###Demo%20II:%20Scalar%20function%20with%20vector%20input) and would look like the following,"
   ]
  },
  {
   "cell_type": "code",
   "execution_count": 12,
   "metadata": {},
   "outputs": [
    {
     "data": {
      "text/plain": [
       "array([5.00 + e [4. 1.], 9.00 + e [10. 12.], 29.00 + e [ 1. 48.]],\n",
       "      dtype=object)"
      ]
     },
     "execution_count": 12,
     "metadata": {},
     "output_type": "execute_result"
    }
   ],
   "source": [
    "def F(x, y):\n",
    "    f1 = x**2 + x*y + 2\n",
    "    f2 = x*y**3 + x**2\n",
    "    f3 = y**3/x + x + x**2*y**2 + y**4\n",
    "    return np.array([f1, f2, f3])\n",
    "\n",
    "p = np.array([1, 2])\n",
    "p_x = d.Dual(p[0], idx=0, x=p)\n",
    "p_y = d.Dual(p[1], idx=1, x=p)\n",
    "\n",
    "ad = F(p_x, p_y)\n",
    "ad"
   ]
  },
  {
   "cell_type": "markdown",
   "metadata": {},
   "source": [
    "For each $i$th entry, in the 1D `numpy` array `ad`, the real part is the $i$th component of $\\mathbf{F}(\\mathbf{p})$ and the dual part is the corresponding row in the Jacobian $\\mathbf J$ evaluated at $\\mathbf p = (x_1, x_2) = (1, 2)$.\n",
    "\n",
    "The output can be cleaned up a bit to shape $\\mathbf J$ into its matrix form `Jac` with,"
   ]
  },
  {
   "cell_type": "code",
   "execution_count": 13,
   "metadata": {},
   "outputs": [
    {
     "data": {
      "text/plain": [
       "array([[ 4.,  1.],\n",
       "       [10., 12.],\n",
       "       [ 1., 48.]])"
      ]
     },
     "execution_count": 13,
     "metadata": {},
     "output_type": "execute_result"
    }
   ],
   "source": [
    "Jac = np.empty((F(*p).size, p.size))\n",
    "for i, f in enumerate(ad):\n",
    "    Jac[i] = f.d\n",
    "\n",
    "Jac"
   ]
  }
 ],
 "metadata": {
  "kernelspec": {
   "display_name": "Python 3",
   "language": "python",
   "name": "python3"
  },
  "language_info": {
   "codemirror_mode": {
    "name": "ipython",
    "version": 3
   },
   "file_extension": ".py",
   "mimetype": "text/x-python",
   "name": "python",
   "nbconvert_exporter": "python",
   "pygments_lexer": "ipython3",
   "version": "3.6.3"
  },
  "toc": {
   "colors": {
    "hover_highlight": "#DAA520",
    "navigate_num": "#fc151b",
    "navigate_text": "#92a2be",
    "running_highlight": "#FF0000",
    "selected_highlight": "#FFD700",
    "sidebar_border": "#EEEEEE",
    "wrapper_background": "#FFFFFF"
   },
   "moveMenuLeft": true,
   "nav_menu": {
    "height": "430px",
    "width": "450px"
   },
   "navigate_menu": true,
   "number_sections": false,
   "sideBar": true,
   "threshold": 4,
   "toc_cell": false,
   "toc_section_display": "block",
   "toc_window_display": false,
   "widenNotebook": false
  }
 },
 "nbformat": 4,
 "nbformat_minor": 2
}
